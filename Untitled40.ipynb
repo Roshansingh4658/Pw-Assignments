{
 "cells": [
  {
   "cell_type": "code",
   "execution_count": 1,
   "id": "c73caa60",
   "metadata": {},
   "outputs": [
    {
     "name": "stdout",
     "output_type": "stream",
     "text": [
      "1\n",
      "2\n",
      "3\n",
      "4\n",
      "5\n",
      "6\n",
      "7\n",
      "8\n",
      "9\n",
      "10\n"
     ]
    }
   ],
   "source": [
    "for number in range(1, 11):\n",
    "    print(number)\n"
   ]
  },
  {
   "cell_type": "code",
   "execution_count": 2,
   "id": "07843b8b",
   "metadata": {},
   "outputs": [
    {
     "name": "stdout",
     "output_type": "stream",
     "text": [
      "0\n",
      "1\n",
      "2\n",
      "3\n",
      "4\n"
     ]
    }
   ],
   "source": [
    "count = 0\n",
    "while count < 5:\n",
    "    print(count)\n",
    "    count += 1\n"
   ]
  },
  {
   "cell_type": "code",
   "execution_count": 3,
   "id": "23f2ef25",
   "metadata": {},
   "outputs": [
    {
     "name": "stdout",
     "output_type": "stream",
     "text": [
      "The sum of numbers from 1 to 100 is: 5050\n"
     ]
    }
   ],
   "source": [
    "sum_result = 0\n",
    "\n",
    "for number in range(1, 101):\n",
    "    sum_result += number\n",
    "\n",
    "print(f\"The sum of numbers from 1 to 100 is: {sum_result}\")\n"
   ]
  },
  {
   "cell_type": "code",
   "execution_count": 4,
   "id": "1c9bf6ed",
   "metadata": {},
   "outputs": [
    {
     "name": "stdout",
     "output_type": "stream",
     "text": [
      "Index 0: apple\n",
      "Index 1: banana\n",
      "Index 2: orange\n"
     ]
    }
   ],
   "source": [
    "my_list = ['apple', 'banana', 'orange']\n",
    "\n",
    "for index, value in enumerate(my_list):\n",
    "    # Do something with both index and value\n",
    "    print(f\"Index {index}: {value}\")\n"
   ]
  },
  {
   "cell_type": "code",
   "execution_count": 5,
   "id": "0219fd59",
   "metadata": {},
   "outputs": [
    {
     "name": "stdout",
     "output_type": "stream",
     "text": [
      "The product of elements in the list is: 120\n"
     ]
    }
   ],
   "source": [
    "def calculate_product_of_list(my_list):\n",
    "    product_result = 1\n",
    "\n",
    "    for element in my_list:\n",
    "        product_result *= element\n",
    "\n",
    "    return product_result\n",
    "\n",
    "# Test the function\n",
    "numbers_list = [2, 3, 4, 5]\n",
    "result = calculate_product_of_list(numbers_list)\n",
    "print(f\"The product of elements in the list is: {result}\")\n"
   ]
  },
  {
   "cell_type": "code",
   "execution_count": 6,
   "id": "9f6827d0",
   "metadata": {},
   "outputs": [
    {
     "name": "stdout",
     "output_type": "stream",
     "text": [
      "2\n",
      "4\n",
      "6\n",
      "8\n",
      "10\n",
      "12\n",
      "14\n",
      "16\n",
      "18\n",
      "20\n"
     ]
    }
   ],
   "source": [
    "for number in range(1, 21):\n",
    "    if number % 2 == 0:\n",
    "        print(number)\n"
   ]
  },
  {
   "cell_type": "code",
   "execution_count": null,
   "id": "8a97df5e",
   "metadata": {},
   "outputs": [],
   "source": [
    "def calculate_factorial(number):\n",
    "    factorial = 1\n",
    "    for i in range(1, number + 1):\n",
    "        factorial *= i\n",
    "    return factorial\n",
    "\n",
    "# Test the function\n",
    "user_input = int(input(\"Enter a number: \"))\n",
    "result = calculate_factorial(user_input)\n",
    "print(f\"The factorial of {user_input} is: {result}\")\n"
   ]
  },
  {
   "cell_type": "code",
   "execution_count": 1,
   "id": "35683667",
   "metadata": {},
   "outputs": [
    {
     "name": "stdout",
     "output_type": "stream",
     "text": [
      "h\n",
      "e\n",
      "l\n",
      "l\n",
      "o\n"
     ]
    }
   ],
   "source": [
    "my_string = \"hello\"\n",
    "\n",
    "for char in my_string:\n",
    "    print(char)\n"
   ]
  },
  {
   "cell_type": "code",
   "execution_count": 2,
   "id": "7ecb1164",
   "metadata": {},
   "outputs": [
    {
     "name": "stdout",
     "output_type": "stream",
     "text": [
      "The largest number in the list is: 50\n"
     ]
    }
   ],
   "source": [
    "def find_largest_number(numbers):\n",
    "    # Initialize the largest number to the first element of the list\n",
    "    largest_number = numbers[0]\n",
    "\n",
    "    # Iterate through the list starting from the second element\n",
    "    for number in numbers[1:]:\n",
    "        if number > largest_number:\n",
    "            largest_number = number\n",
    "\n",
    "    return largest_number\n",
    "\n",
    "# Test the function\n",
    "numbers_list = [10, 30, 20, 50, 40]\n",
    "largest = find_largest_number(numbers_list)\n",
    "print(\"The largest number in the list is:\", largest)\n"
   ]
  },
  {
   "cell_type": "code",
   "execution_count": 2,
   "id": "cf62f4a9",
   "metadata": {},
   "outputs": [
    {
     "name": "stdout",
     "output_type": "stream",
     "text": [
      "Enter the limit for the Fibonacci sequence: Roshan\n"
     ]
    },
    {
     "ename": "ValueError",
     "evalue": "invalid literal for int() with base 10: 'Roshan'",
     "output_type": "error",
     "traceback": [
      "\u001b[1;31m---------------------------------------------------------------------------\u001b[0m",
      "\u001b[1;31mValueError\u001b[0m                                Traceback (most recent call last)",
      "Cell \u001b[1;32mIn[2], line 15\u001b[0m\n\u001b[0;32m     12\u001b[0m     \u001b[38;5;28;01mreturn\u001b[39;00m fib_sequence\n\u001b[0;32m     14\u001b[0m \u001b[38;5;66;03m# Test the function\u001b[39;00m\n\u001b[1;32m---> 15\u001b[0m limit \u001b[38;5;241m=\u001b[39m \u001b[38;5;28mint\u001b[39m(\u001b[38;5;28minput\u001b[39m(\u001b[38;5;124m\"\u001b[39m\u001b[38;5;124mEnter the limit for the Fibonacci sequence: \u001b[39m\u001b[38;5;124m\"\u001b[39m))\n\u001b[0;32m     16\u001b[0m fib_sequence \u001b[38;5;241m=\u001b[39m fibonacci_sequence(limit)\n\u001b[0;32m     17\u001b[0m \u001b[38;5;28mprint\u001b[39m(\u001b[38;5;124m\"\u001b[39m\u001b[38;5;124mFibonacci sequence up to the limit:\u001b[39m\u001b[38;5;124m\"\u001b[39m, fib_sequence)\n",
      "\u001b[1;31mValueError\u001b[0m: invalid literal for int() with base 10: 'Roshan'"
     ]
    }
   ],
   "source": [
    "def fibonacci_sequence(limit):\n",
    "    fib_sequence = [0, 1]  # Initialize the sequence with the first two Fibonacci numbers\n",
    "    \n",
    "    # Generate the Fibonacci sequence up to the specified limit\n",
    "    for i in range(2, limit):\n",
    "        next_number = fib_sequence[-1] + fib_sequence[-2]  # Calculate the next Fibonacci number\n",
    "        if next_number <= limit:  # Check if the next number exceeds the limit\n",
    "            fib_sequence.append(next_number)  # Add the next Fibonacci number to the sequence\n",
    "        else:\n",
    "            break  # If the next number exceeds the limit, break the loop\n",
    "\n",
    "    return fib_sequence\n",
    "\n",
    "# Test the function\n",
    "limit = int(input(\"Enter the limit for the Fibonacci sequence: \"))\n",
    "fib_sequence = fibonacci_sequence(limit)\n",
    "print(\"Fibonacci sequence up to the limit:\", fib_sequence)\n"
   ]
  },
  {
   "cell_type": "code",
   "execution_count": 1,
   "id": "e135789d",
   "metadata": {},
   "outputs": [
    {
     "name": "stdout",
     "output_type": "stream",
     "text": [
      "Enter a string: uytr\n",
      "Number of vowels in the string: 1\n"
     ]
    }
   ],
   "source": [
    "def count_vowels(input_string):\n",
    "    vowels = 'aeiouAEIOU'  # Define a string containing all vowels\n",
    "    count = 0  # Initialize a variable to count the vowels\n",
    "    \n",
    "    # Iterate through each character in the input string\n",
    "    for char in input_string:\n",
    "        # Check if the character is a vowel\n",
    "        if char in vowels:\n",
    "            count += 1  # Increment the count if the character is a vowel\n",
    "    \n",
    "    return count\n",
    "\n",
    "# Test the function\n",
    "input_string = input(\"Enter a string: \")\n",
    "num_vowels = count_vowels(input_string)\n",
    "print(\"Number of vowels in the string:\", num_vowels)\n"
   ]
  },
  {
   "cell_type": "code",
   "execution_count": 1,
   "id": "4b4c3879",
   "metadata": {},
   "outputs": [
    {
     "name": "stdout",
     "output_type": "stream",
     "text": [
      "Enter a number: 876\n",
      "Multiplication table for 876:\n",
      "876 x 1 = 876\n",
      "876 x 2 = 1752\n",
      "876 x 3 = 2628\n",
      "876 x 4 = 3504\n",
      "876 x 5 = 4380\n",
      "876 x 6 = 5256\n",
      "876 x 7 = 6132\n",
      "876 x 8 = 7008\n",
      "876 x 9 = 7884\n",
      "876 x 10 = 8760\n"
     ]
    }
   ],
   "source": [
    "def multiplication_table(number):\n",
    "    print(f\"Multiplication table for {number}:\")\n",
    "    for i in range(1, 11):  # Generate numbers from 1 to 10 for the table\n",
    "        print(f\"{number} x {i} = {number * i}\")\n",
    "\n",
    "# Test the function\n",
    "input_number = int(input(\"Enter a number: \"))\n",
    "multiplication_table(input_number)\n"
   ]
  },
  {
   "cell_type": "code",
   "execution_count": 3,
   "id": "0798663f",
   "metadata": {},
   "outputs": [
    {
     "name": "stdout",
     "output_type": "stream",
     "text": [
      "Original list: [1, 2, 3, 4, 5]\n",
      "Reversed list: [5, 4, 3, 2, 1]\n"
     ]
    }
   ],
   "source": [
    "def reverse_list(input_list):\n",
    "    reversed_list = []  # Initialize an empty list to store the reversed elements\n",
    "    \n",
    "    # Iterate through the input list in reverse order using a for loop\n",
    "    for i in range(len(input_list) - 1, -1, -1):\n",
    "        reversed_list.append(input_list[i])  # Append each element to the reversed list\n",
    "    \n",
    "    return reversed_list\n",
    "\n",
    "# Test the function\n",
    "my_list = [1, 2, 3, 4, 5]\n",
    "reversed_result = reverse_list(my_list)\n",
    "print(\"Original list:\", my_list)\n",
    "print(\"Reversed list:\", reversed_result)\n"
   ]
  },
  {
   "cell_type": "code",
   "execution_count": 4,
   "id": "cbe12309",
   "metadata": {},
   "outputs": [
    {
     "name": "stdout",
     "output_type": "stream",
     "text": [
      "Common elements between list1 and list2: [4, 5]\n"
     ]
    }
   ],
   "source": [
    "def find_common_elements(list1, list2):\n",
    "    common_elements = []\n",
    "\n",
    "    # Iterate through each element in list1\n",
    "    for element in list1:\n",
    "        # Check if the element is also present in list2\n",
    "        if element in list2:\n",
    "            common_elements.append(element)\n",
    "\n",
    "    return common_elements\n",
    "\n",
    "# Test the function\n",
    "list1 = [1, 2, 3, 4, 5]\n",
    "list2 = [4, 5, 6, 7, 8]\n",
    "common_elements = find_common_elements(list1, list2)\n",
    "print(\"Common elements between list1 and list2:\", common_elements)\n"
   ]
  },
  {
   "cell_type": "code",
   "execution_count": 5,
   "id": "7c86734b",
   "metadata": {},
   "outputs": [
    {
     "name": "stdout",
     "output_type": "stream",
     "text": [
      "Key: a\n",
      "Key: b\n",
      "Key: c\n",
      "Value: 1\n",
      "Value: 2\n",
      "Value: 3\n"
     ]
    }
   ],
   "source": [
    "my_dict = {'a': 1, 'b': 2, 'c': 3}\n",
    "\n",
    "# Iterate over keys\n",
    "for key in my_dict.keys():\n",
    "    print(\"Key:\", key)\n",
    "\n",
    "# Iterate over values\n",
    "for value in my_dict.values():\n",
    "    print(\"Value:\", value)\n"
   ]
  },
  {
   "cell_type": "code",
   "execution_count": null,
   "id": "8ff42c04",
   "metadata": {},
   "outputs": [
    {
     "name": "stdout",
     "output_type": "stream",
     "text": [
      "Enter the first number: 8858500104\n",
      "Enter the second number: 8542950004\n"
     ]
    }
   ],
   "source": [
    "def gcd(a, b):\n",
    "    # Find the minimum of the two numbers\n",
    "    min_number = min(a, b)\n",
    "    gcd_result = 1  # Initialize gcd_result to 1 (minimum possible gcd)\n",
    "\n",
    "    # Iterate from 1 to the minimum of the two numbers\n",
    "    for i in range(1, min_number + 1):\n",
    "        # Check if both a and b are divisible by the current number\n",
    "        if a % i == 0 and b % i == 0:\n",
    "            gcd_result = i  # Update gcd_result if the current number is a common divisor\n",
    "\n",
    "    return gcd_result\n",
    "\n",
    "# Test the function\n",
    "num1 = int(input(\"Enter the first number: \"))\n",
    "num2 = int(input(\"Enter the second number: \"))\n",
    "\n",
    "result = gcd(num1, num2)\n",
    "print(f\"The GCD of {num1} and {num2} is: {result}\")\n"
   ]
  },
  {
   "cell_type": "code",
   "execution_count": 1,
   "id": "077a9c87",
   "metadata": {},
   "outputs": [
    {
     "name": "stdout",
     "output_type": "stream",
     "text": [
      "Enter a string: Roshan\n",
      "The string 'Roshan' is not a palindrome.\n"
     ]
    }
   ],
   "source": [
    "def is_palindrome(input_string):\n",
    "    # Convert the input string to lowercase for case-insensitive comparison\n",
    "    input_string = input_string.lower()\n",
    "    \n",
    "    # Remove non-alphanumeric characters from the string\n",
    "    input_string = ''.join(char for char in input_string if char.isalnum())\n",
    "    \n",
    "    # Initialize two pointers, one at the beginning and one at the end of the string\n",
    "    start_index = 0\n",
    "    end_index = len(input_string) - 1\n",
    "    \n",
    "    # Iterate through the string from both ends towards the middle\n",
    "    while start_index < end_index:\n",
    "        # If characters at both pointers are not equal, the string is not a palindrome\n",
    "        if input_string[start_index] != input_string[end_index]:\n",
    "            return False\n",
    "        start_index += 1\n",
    "        end_index -= 1\n",
    "    \n",
    "    return True\n",
    "\n",
    "# Test the function\n",
    "input_string = input(\"Enter a string: \")\n",
    "if is_palindrome(input_string):\n",
    "    print(f\"The string '{input_string}' is a palindrome.\")\n",
    "else:\n",
    "    print(f\"The string '{input_string}' is not a palindrome.\")\n"
   ]
  },
  {
   "cell_type": "code",
   "execution_count": 2,
   "id": "97017de3",
   "metadata": {},
   "outputs": [
    {
     "name": "stdout",
     "output_type": "stream",
     "text": [
      "Original list: [1, 2, 3, 2, 4, 3, 5]\n",
      "List after removing duplicates: [1, 2, 3, 4, 5]\n"
     ]
    }
   ],
   "source": [
    "def remove_duplicates(input_list):\n",
    "    unique_elements = []  # Initialize an empty list to store unique elements\n",
    "    \n",
    "    # Iterate through each element in the input list\n",
    "    for element in input_list:\n",
    "        # Check if the current element is not already in the unique elements list\n",
    "        if element not in unique_elements:\n",
    "            unique_elements.append(element)  # Append the element to the unique elements list\n",
    "    \n",
    "    return unique_elements\n",
    "\n",
    "# Test the function\n",
    "my_list = [1, 2, 3, 2, 4, 3, 5]\n",
    "result = remove_duplicates(my_list)\n",
    "print(\"Original list:\", my_list)\n",
    "print(\"List after removing duplicates:\", result)\n"
   ]
  },
  {
   "cell_type": "code",
   "execution_count": 3,
   "id": "649d19d4",
   "metadata": {},
   "outputs": [
    {
     "name": "stdout",
     "output_type": "stream",
     "text": [
      "Enter a sentence: This Is a Car\n",
      "Number of words in the sentence: 4\n"
     ]
    }
   ],
   "source": [
    "def count_words(sentence):\n",
    "    word_count = 0  # Initialize a variable to count the words\n",
    "    \n",
    "    # Iterate through each character in the sentence\n",
    "    for char in sentence:\n",
    "        # Check if the current character is a space (indicating a word boundary)\n",
    "        if char == ' ':\n",
    "            word_count += 1  # Increment the word count when a space is encountered\n",
    "    \n",
    "    # Increment the word count by 1 to account for the last word (not followed by a space)\n",
    "    word_count += 1\n",
    "    \n",
    "    return word_count\n",
    "\n",
    "# Test the function\n",
    "input_sentence = input(\"Enter a sentence: \")\n",
    "num_words = count_words(input_sentence)\n",
    "print(\"Number of words in the sentence:\", num_words)\n"
   ]
  },
  {
   "cell_type": "code",
   "execution_count": 5,
   "id": "0f3db982",
   "metadata": {},
   "outputs": [
    {
     "name": "stdout",
     "output_type": "stream",
     "text": [
      "Sum of odd numbers from 1 to 50: 625\n"
     ]
    }
   ],
   "source": [
    "odd_sum = 0  # Initialize a variable to store the sum of odd numbers\n",
    "\n",
    "# Iterate through numbers from 1 to 50\n",
    "for number in range(1, 51):\n",
    "    if number % 2 != 0:  # Check if the number is odd\n",
    "        odd_sum += number  # Add the odd number to the sum\n",
    "\n",
    "print(\"Sum of odd numbers from 1 to 50:\", odd_sum)\n",
    "\n"
   ]
  },
  {
   "cell_type": "code",
   "execution_count": 7,
   "id": "311acb31",
   "metadata": {},
   "outputs": [
    {
     "name": "stdout",
     "output_type": "stream",
     "text": [
      "Enter a year: 2023\n",
      "2023 is not a leap year.\n"
     ]
    }
   ],
   "source": [
    "def is_leap_year(year):\n",
    "    if (year % 4 == 0 and year % 100 != 0) or (year % 400 == 0):\n",
    "        return True\n",
    "    else:\n",
    "        return False\n",
    "\n",
    "# Test the function\n",
    "input_year = int(input(\"Enter a year: \"))\n",
    "if is_leap_year(input_year):\n",
    "    print(f\"{input_year} is a leap year.\")\n",
    "else:\n",
    "    print(f\"{input_year} is not a leap year.\")\n"
   ]
  },
  {
   "cell_type": "code",
   "execution_count": 8,
   "id": "afbf599c",
   "metadata": {},
   "outputs": [
    {
     "name": "stdout",
     "output_type": "stream",
     "text": [
      "Enter a number: 8858500104\n",
      "Approximated square root: 94119.60531153964\n"
     ]
    }
   ],
   "source": [
    "def square_root_approximation(number):\n",
    "    if number < 0:\n",
    "        return \"Square root is not defined for negative numbers\"\n",
    "    \n",
    "    # Set an initial guess for the square root\n",
    "    guess = number / 2\n",
    "    \n",
    "    # Iterate for a fixed number of times to improve the guess\n",
    "    for _ in range(20):\n",
    "        guess = (guess + number / guess) / 2  # Update the guess using Newton's method\n",
    "    \n",
    "    return guess\n",
    "\n",
    "# Test the function\n",
    "input_number = float(input(\"Enter a number: \"))\n",
    "result = square_root_approximation(input_number)\n",
    "print(\"Approximated square root:\", result)\n"
   ]
  },
  {
   "cell_type": "code",
   "execution_count": 9,
   "id": "a09cf4be",
   "metadata": {},
   "outputs": [
    {
     "name": "stdout",
     "output_type": "stream",
     "text": [
      "Enter the first number: 88\n",
      "Enter the second number: 99\n",
      "The LCM of 88 and 99 is: 792\n"
     ]
    }
   ],
   "source": [
    "def find_lcm(num1, num2):\n",
    "    # Find the maximum of the two numbers\n",
    "    max_num = max(num1, num2)\n",
    "    \n",
    "    # Start from the maximum number and iterate upwards\n",
    "    for lcm in range(max_num, num1 * num2 + 1, max_num):\n",
    "        # Check if the current number is divisible by both num1 and num2\n",
    "        if lcm % num1 == 0 and lcm % num2 == 0:\n",
    "            return lcm\n",
    "\n",
    "# Test the function\n",
    "input_num1 = int(input(\"Enter the first number: \"))\n",
    "input_num2 = int(input(\"Enter the second number: \"))\n",
    "\n",
    "lcm_result = find_lcm(input_num1, input_num2)\n",
    "print(f\"The LCM of {input_num1} and {input_num2} is: {lcm_result}\")\n"
   ]
  },
  {
   "cell_type": "markdown",
   "id": "6f440a2d",
   "metadata": {},
   "source": [
    "# If else "
   ]
  },
  {
   "cell_type": "code",
   "execution_count": 10,
   "id": "c353a969",
   "metadata": {},
   "outputs": [
    {
     "name": "stdout",
     "output_type": "stream",
     "text": [
      "Enter a number: 01233\n",
      "The number is positive.\n"
     ]
    }
   ],
   "source": [
    "def check_number(num):\n",
    "    if num > 0:\n",
    "        print(\"The number is positive.\")\n",
    "    elif num < 0:\n",
    "        print(\"The number is negative.\")\n",
    "    else:\n",
    "        print(\"The number is zero.\")\n",
    "\n",
    "# Test the function\n",
    "input_number = float(input(\"Enter a number: \"))\n",
    "check_number(input_number)\n"
   ]
  },
  {
   "cell_type": "code",
   "execution_count": 11,
   "id": "5681cd18",
   "metadata": {},
   "outputs": [
    {
     "name": "stdout",
     "output_type": "stream",
     "text": [
      "Enter a number: 88\n",
      "The number 88 is even.\n"
     ]
    }
   ],
   "source": [
    "def check_even_odd(num):\n",
    "    if num % 2 == 0:\n",
    "        print(f\"The number {num} is even.\")\n",
    "    else:\n",
    "        print(f\"The number {num} is odd.\")\n",
    "\n",
    "# Test the function\n",
    "input_number = int(input(\"Enter a number: \"))\n",
    "check_even_odd(input_number)\n"
   ]
  },
  {
   "cell_type": "markdown",
   "id": "26cd8e27",
   "metadata": {},
   "source": [
    "def check_number(num):\n",
    "    if num >= 0:\n",
    "        if num == 0:\n",
    "            print(\"The number is zero.\")\n",
    "        else:\n",
    "            print(\"The number is positive.\")\n",
    "    else:\n",
    "        print(\"The number is negative.\")\n",
    "\n",
    "# Test the function\n",
    "input_number = float(input(\"Enter a number: \"))\n",
    "check_number(input_number)\n"
   ]
  },
  {
   "cell_type": "code",
   "execution_count": 12,
   "id": "1a730aa0",
   "metadata": {},
   "outputs": [
    {
     "name": "stdout",
     "output_type": "stream",
     "text": [
      "Enter a number: 058\n",
      "The number is positive.\n"
     ]
    }
   ],
   "source": [
    "def check_number(num):\n",
    "    if num >= 0:\n",
    "        if num == 0:\n",
    "            print(\"The number is zero.\")\n",
    "        else:\n",
    "            print(\"The number is positive.\")\n",
    "    else:\n",
    "        print(\"The number is negative.\")\n",
    "\n",
    "# Test the function\n",
    "input_number = float(input(\"Enter a number: \"))\n",
    "check_number(input_number)\n"
   ]
  },
  {
   "cell_type": "code",
   "execution_count": 13,
   "id": "b86dc541",
   "metadata": {},
   "outputs": [
    {
     "name": "stdout",
     "output_type": "stream",
     "text": [
      "Enter the first number: 99\n",
      "Enter the second number: 99\n",
      "Enter the third number: 88\n",
      "The largest number is: 99.0\n"
     ]
    }
   ],
   "source": [
    "def find_largest(num1, num2, num3):\n",
    "    if num1 >= num2 and num1 >= num3:\n",
    "        largest = num1\n",
    "    elif num2 >= num1 and num2 >= num3:\n",
    "        largest = num2\n",
    "    else:\n",
    "        largest = num3\n",
    "    return largest\n",
    "\n",
    "# Test the function\n",
    "input_num1 = float(input(\"Enter the first number: \"))\n",
    "input_num2 = float(input(\"Enter the second number: \"))\n",
    "input_num3 = float(input(\"Enter the third number: \"))\n",
    "\n",
    "largest_number = find_largest(input_num1, input_num2, input_num3)\n",
    "print(\"The largest number is:\", largest_number)\n"
   ]
  },
  {
   "cell_type": "code",
   "execution_count": 14,
   "id": "cc8ffa8e",
   "metadata": {},
   "outputs": [
    {
     "name": "stdout",
     "output_type": "stream",
     "text": [
      "Enter a number: 88\n",
      "The absolute value of 88.0 is: 88.0\n"
     ]
    }
   ],
   "source": [
    "def absolute_value(num):\n",
    "    if num >= 0:\n",
    "        return num\n",
    "    else:\n",
    "        return -num\n",
    "\n",
    "# Test the function\n",
    "input_number = float(input(\"Enter a number: \"))\n",
    "result = absolute_value(input_number)\n",
    "print(\"The absolute value of\", input_number, \"is:\", result)\n"
   ]
  },
  {
   "cell_type": "code",
   "execution_count": 15,
   "id": "24b5bdf9",
   "metadata": {},
   "outputs": [
    {
     "name": "stdout",
     "output_type": "stream",
     "text": [
      "Enter a character: hgfds\n",
      "Please enter a single character.\n"
     ]
    }
   ],
   "source": [
    "def check_vowel_consonant(char):\n",
    "    # Convert the character to lowercase for case-insensitive comparison\n",
    "    char = char.lower()\n",
    "    \n",
    "    # Check if the character is a vowel or consonant\n",
    "    if char in 'aeiou':\n",
    "        print(f\"The character '{char}' is a vowel.\")\n",
    "    elif char.isalpha():\n",
    "        print(f\"The character '{char}' is a consonant.\")\n",
    "    else:\n",
    "        print(\"Invalid input. Please enter a valid alphabet.\")\n",
    "\n",
    "# Test the function\n",
    "input_char = input(\"Enter a character: \")\n",
    "\n",
    "# Check if the input is a single character\n",
    "if len(input_char) == 1:\n",
    "    check_vowel_consonant(input_char)\n",
    "else:\n",
    "    print(\"Please enter a single character.\")\n"
   ]
  },
  {
   "cell_type": "code",
   "execution_count": 16,
   "id": "8ab1e51c",
   "metadata": {},
   "outputs": [
    {
     "name": "stdout",
     "output_type": "stream",
     "text": [
      "Enter your age: 22\n",
      "You are eligible to vote.\n"
     ]
    }
   ],
   "source": [
    "def check_voting_eligibility(age):\n",
    "    if age >= 18:\n",
    "        print(\"You are eligible to vote.\")\n",
    "    else:\n",
    "        print(\"You are not eligible to vote yet.\")\n",
    "\n",
    "# Test the function\n",
    "input_age = int(input(\"Enter your age: \"))\n",
    "check_voting_eligibility(input_age)\n"
   ]
  },
  {
   "cell_type": "code",
   "execution_count": 17,
   "id": "da451884",
   "metadata": {},
   "outputs": [
    {
     "name": "stdout",
     "output_type": "stream",
     "text": [
      "Enter the purchase amount: $56\n",
      "Discount amount: $ 0\n"
     ]
    }
   ],
   "source": [
    "def calculate_discount(purchase_amount):\n",
    "    if purchase_amount >= 1000:\n",
    "        discount = 0.1 * purchase_amount  # 10% discount for purchases of $1000 or more\n",
    "    elif purchase_amount >= 500:\n",
    "        discount = 0.05 * purchase_amount  # 5% discount for purchases of $500 or more\n",
    "    else:\n",
    "        discount = 0  # No discount for purchases less than $500\n",
    "    return discount\n",
    "\n",
    "# Test the function\n",
    "input_amount = float(input(\"Enter the purchase amount: $\"))\n",
    "discount_amount = calculate_discount(input_amount)\n",
    "print(\"Discount amount: $\", discount_amount)\n"
   ]
  },
  {
   "cell_type": "code",
   "execution_count": 19,
   "id": "b437e0ba",
   "metadata": {},
   "outputs": [
    {
     "name": "stdout",
     "output_type": "stream",
     "text": [
      "Enter a number: 8858500104\n",
      "Enter the lower limit of the range: 867484759\n",
      "Enter the upper limit of the range: 83775748574\n",
      "The number 8858500104.0 is within the specified range [867484759.0, 83775748574.0].\n"
     ]
    }
   ],
   "source": [
    "def check_number_in_range(number, lower_bound, upper_bound):\n",
    "    if lower_bound <= number <= upper_bound:\n",
    "        print(f\"The number {number} is within the specified range [{lower_bound}, {upper_bound}].\")\n",
    "    else:\n",
    "        print(f\"The number {number} is not within the specified range [{lower_bound}, {upper_bound}].\")\n",
    "\n",
    "# Test the function\n",
    "input_number = float(input(\"Enter a number: \"))\n",
    "lower_limit = float(input(\"Enter the lower limit of the range: \"))\n",
    "upper_limit = float(input(\"Enter the upper limit of the range: \"))\n",
    "\n",
    "check_number_in_range(input_number, lower_limit, upper_limit)\n"
   ]
  },
  {
   "cell_type": "code",
   "execution_count": 20,
   "id": "e3bae8b3",
   "metadata": {},
   "outputs": [
    {
     "name": "stdout",
     "output_type": "stream",
     "text": [
      "Enter the student's score: 75\n",
      "The student's grade is: C\n"
     ]
    }
   ],
   "source": [
    "def determine_grade(score):\n",
    "    if score >= 90:\n",
    "        grade = 'A'\n",
    "    elif score >= 80:\n",
    "        grade = 'B'\n",
    "    elif score >= 70:\n",
    "        grade = 'C'\n",
    "    elif score >= 60:\n",
    "        grade = 'D'\n",
    "    else:\n",
    "        grade = 'F'\n",
    "    return grade\n",
    "\n",
    "# Test the function\n",
    "input_score = float(input(\"Enter the student's score: \"))\n",
    "\n",
    "if 0 <= input_score <= 100:\n",
    "    student_grade = determine_grade(input_score)\n",
    "    print(f\"The student's grade is: {student_grade}\")\n",
    "else:\n",
    "    print(\"Invalid score. Please enter a score between 0 and 100.\")\n"
   ]
  },
  {
   "cell_type": "code",
   "execution_count": 21,
   "id": "3dd4b29d",
   "metadata": {},
   "outputs": [
    {
     "name": "stdout",
     "output_type": "stream",
     "text": [
      "Enter a string: Roshan Sigh\n",
      "The string is not empty.\n"
     ]
    }
   ],
   "source": [
    "def check_string_empty(string):\n",
    "    if string:\n",
    "        print(\"The string is not empty.\")\n",
    "    else:\n",
    "        print(\"The string is empty.\")\n",
    "\n",
    "# Test the function\n",
    "input_string = input(\"Enter a string: \")\n",
    "\n",
    "check_string_empty(input_string)\n"
   ]
  },
  {
   "cell_type": "code",
   "execution_count": 23,
   "id": "b2ec070b",
   "metadata": {},
   "outputs": [
    {
     "name": "stdout",
     "output_type": "stream",
     "text": [
      "Enter the length of the first side: 12\n",
      "Enter the length of the second side: 34\n",
      "Enter the length of the third side: 23\n",
      "The triangle is scalene.\n"
     ]
    }
   ],
   "source": [
    "def identify_triangle_type(side1, side2, side3):\n",
    "    if side1 == side2 == side3:\n",
    "        triangle_type = \"equilateral\"\n",
    "    elif side1 == side2 or side1 == side3 or side2 == side3:\n",
    "        triangle_type = \"isosceles\"\n",
    "    else:\n",
    "        triangle_type = \"scalene\"\n",
    "    return triangle_type\n",
    "\n",
    "# Test the function\n",
    "side1 = float(input(\"Enter the length of the first side: \"))\n",
    "side2 = float(input(\"Enter the length of the second side: \"))\n",
    "side3 = float(input(\"Enter the length of the third side: \"))\n",
    "\n",
    "if side1 + side2 > side3 and side1 + side3 > side2 and side2 + side3 > side1:\n",
    "    triangle = identify_triangle_type(side1, side2, side3)\n",
    "    print(f\"The triangle is {triangle}.\")\n",
    "else:\n",
    "    print(\"Invalid triangle. The sum of the lengths of any two sides must be greater than the length of the third side.\")\n"
   ]
  },
  {
   "cell_type": "code",
   "execution_count": 24,
   "id": "67243f06",
   "metadata": {},
   "outputs": [
    {
     "name": "stdout",
     "output_type": "stream",
     "text": [
      "Enter a number (1-7) to determine the day of the week: 5\n",
      "The day of the week corresponding to 5 is: Friday\n"
     ]
    }
   ],
   "source": [
    "def determine_day_of_week(day_number):\n",
    "    if day_number == 1:\n",
    "        day = \"Monday\"\n",
    "    elif day_number == 2:\n",
    "        day = \"Tuesday\"\n",
    "    elif day_number == 3:\n",
    "        day = \"Wednesday\"\n",
    "    elif day_number == 4:\n",
    "        day = \"Thursday\"\n",
    "    elif day_number == 5:\n",
    "        day = \"Friday\"\n",
    "    elif day_number == 6:\n",
    "        day = \"Saturday\"\n",
    "    elif day_number == 7:\n",
    "        day = \"Sunday\"\n",
    "    else:\n",
    "        day = \"Invalid day number. Please enter a number between 1 and 7.\"\n",
    "    return day\n",
    "\n",
    "# Test the function\n",
    "input_day_number = int(input(\"Enter a number (1-7) to determine the day of the week: \"))\n",
    "\n",
    "if 1 <= input_day_number <= 7:\n",
    "    day_of_week = determine_day_of_week(input_day_number)\n",
    "    print(f\"The day of the week corresponding to {input_day_number} is: {day_of_week}\")\n",
    "else:\n",
    "    print(\"Invalid input. Please enter a number between 1 and 7.\")\n"
   ]
  },
  {
   "cell_type": "code",
   "execution_count": 25,
   "id": "892aa93d",
   "metadata": {},
   "outputs": [
    {
     "name": "stdout",
     "output_type": "stream",
     "text": [
      "Enter a year to check if it's a leap year: 2026\n",
      "2026 is not a leap year.\n"
     ]
    }
   ],
   "source": [
    "def is_leap_year(year):\n",
    "    if year % 4 == 0:\n",
    "        if year % 100 == 0:\n",
    "            if year % 400 == 0:\n",
    "                return True  # Leap year if divisible by 400\n",
    "            else:\n",
    "                return False  # Not a leap year if divisible by 100 but not by 400\n",
    "        else:\n",
    "            return True  # Leap year if divisible by 4 but not by 100\n",
    "    else:\n",
    "        return False  # Not a leap year if not divisible by 4\n",
    "\n",
    "# Test the function\n",
    "input_year = int(input(\"Enter a year to check if it's a leap year: \"))\n",
    "\n",
    "if is_leap_year(input_year):\n",
    "    print(f\"{input_year} is a leap year.\")\n",
    "else:\n",
    "    print(f\"{input_year} is not a leap year.\")\n"
   ]
  },
  {
   "cell_type": "code",
   "execution_count": 29,
   "id": "740199b5",
   "metadata": {},
   "outputs": [
    {
     "ename": "AssertionError",
     "evalue": "Division by zero is not allowed",
     "output_type": "error",
     "traceback": [
      "\u001b[1;31m---------------------------------------------------------------------------\u001b[0m",
      "\u001b[1;31mAssertionError\u001b[0m                            Traceback (most recent call last)",
      "Cell \u001b[1;32mIn[29], line 9\u001b[0m\n\u001b[0;32m      6\u001b[0m numerator \u001b[38;5;241m=\u001b[39m \u001b[38;5;241m10\u001b[39m\n\u001b[0;32m      7\u001b[0m denominator \u001b[38;5;241m=\u001b[39m \u001b[38;5;241m0\u001b[39m\n\u001b[1;32m----> 9\u001b[0m result \u001b[38;5;241m=\u001b[39m divide(numerator, denominator)\n\u001b[0;32m     10\u001b[0m \u001b[38;5;28mprint\u001b[39m(\u001b[38;5;124m\"\u001b[39m\u001b[38;5;124mResult:\u001b[39m\u001b[38;5;124m\"\u001b[39m, result)\n",
      "Cell \u001b[1;32mIn[29], line 2\u001b[0m, in \u001b[0;36mdivide\u001b[1;34m(a, b)\u001b[0m\n\u001b[0;32m      1\u001b[0m \u001b[38;5;28;01mdef\u001b[39;00m \u001b[38;5;21mdivide\u001b[39m(a, b):\n\u001b[1;32m----> 2\u001b[0m     \u001b[38;5;28;01massert\u001b[39;00m b \u001b[38;5;241m!=\u001b[39m \u001b[38;5;241m0\u001b[39m, \u001b[38;5;124m\"\u001b[39m\u001b[38;5;124mDivision by zero is not allowed\u001b[39m\u001b[38;5;124m\"\u001b[39m\n\u001b[0;32m      3\u001b[0m     \u001b[38;5;28;01mreturn\u001b[39;00m a \u001b[38;5;241m/\u001b[39m b\n",
      "\u001b[1;31mAssertionError\u001b[0m: Division by zero is not allowed"
     ]
    }
   ],
   "source": [
    "def divide(a, b):\n",
    "    assert b != 0, \"Division by zero is not allowed\"\n",
    "    return a / b\n",
    "\n",
    "# Test the function\n",
    "numerator = 10\n",
    "denominator = 0\n",
    "\n",
    "result = divide(numerator, denominator)\n",
    "print(\"Result:\", result)\n",
    "\n"
   ]
  },
  {
   "cell_type": "code",
   "execution_count": 31,
   "id": "0bf8456f",
   "metadata": {},
   "outputs": [
    {
     "name": "stdout",
     "output_type": "stream",
     "text": [
      "Enter your age: 70\n",
      "Congratulations! You are eligible for a senior citizen discount.\n"
     ]
    }
   ],
   "source": [
    "def check_senior_citizen_discount(age):\n",
    "    if age >= 60:\n",
    "        print(\"Congratulations! You are eligible for a senior citizen discount.\")\n",
    "    else:\n",
    "        print(\"Sorry, you are not eligible for a senior citizen discount.\")\n",
    "\n",
    "# Test the function\n",
    "input_age = int(input(\"Enter your age: \"))\n",
    "check_senior_citizen_discount(input_age)\n"
   ]
  },
  {
   "cell_type": "code",
   "execution_count": 32,
   "id": "96e95365",
   "metadata": {},
   "outputs": [
    {
     "name": "stdout",
     "output_type": "stream",
     "text": [
      "Enter a character: roshan\n",
      "Please enter a single character.\n"
     ]
    }
   ],
   "source": [
    "def categorize_character(char):\n",
    "    if char.isupper():\n",
    "        category = \"uppercase\"\n",
    "    elif char.islower():\n",
    "        category = \"lowercase\"\n",
    "    else:\n",
    "        category = \"neither uppercase nor lowercase\"\n",
    "    return category\n",
    "\n",
    "# Test the function\n",
    "input_char = input(\"Enter a character: \")\n",
    "\n",
    "if len(input_char) == 1:\n",
    "    character_category = categorize_character(input_char)\n",
    "    print(f\"The character '{input_char}' is {character_category}.\")\n",
    "else:\n",
    "    print(\"Please enter a single character.\")\n"
   ]
  },
  {
   "cell_type": "code",
   "execution_count": null,
   "id": "e91a886e",
   "metadata": {},
   "outputs": [],
   "source": []
  },
  {
   "cell_type": "code",
   "execution_count": 33,
   "id": "0b66d630",
   "metadata": {},
   "outputs": [
    {
     "name": "stdout",
     "output_type": "stream",
     "text": [
      "Enter the coefficient of x^2 (a): 6\n",
      "Enter the coefficient of x (b): 8\n",
      "Enter the constant term (c): 7\n",
      "The roots are complex numbers:\n",
      "Root 1: (-0.6666666666666666+0.8498365855987974j)\n",
      "Root 2: (-0.6666666666666666-0.8498365855987974j)\n"
     ]
    }
   ],
   "source": [
    "import math\n",
    "\n",
    "def quadratic_roots(a, b, c):\n",
    "    discriminant = b**2 - 4*a*c\n",
    "\n",
    "    if discriminant > 0:\n",
    "        root1 = (-b + math.sqrt(discriminant)) / (2*a)\n",
    "        root2 = (-b - math.sqrt(discriminant)) / (2*a)\n",
    "        return root1, root2\n",
    "    elif discriminant == 0:\n",
    "        root = -b / (2*a)\n",
    "        return root, root\n",
    "    else:\n",
    "        real_part = -b / (2*a)\n",
    "        imaginary_part = math.sqrt(abs(discriminant)) / (2*a)\n",
    "        root1 = complex(real_part, imaginary_part)\n",
    "        root2 = complex(real_part, -imaginary_part)\n",
    "        return root1, root2\n",
    "\n",
    "# Test the function\n",
    "a = float(input(\"Enter the coefficient of x^2 (a): \"))\n",
    "b = float(input(\"Enter the coefficient of x (b): \"))\n",
    "c = float(input(\"Enter the constant term (c): \"))\n",
    "\n",
    "roots = quadratic_roots(a, b, c)\n",
    "if isinstance(roots[0], complex):\n",
    "    print(\"The roots are complex numbers:\")\n",
    "    print(\"Root 1:\", roots[0])\n",
    "    print(\"Root 2:\", roots[1])\n",
    "else:\n",
    "    print(\"The roots are real numbers:\")\n",
    "    print(\"Root 1:\", roots[0])\n",
    "    print(\"Root 2:\", roots[1])\n"
   ]
  },
  {
   "cell_type": "code",
   "execution_count": 38,
   "id": "9d37f23d",
   "metadata": {},
   "outputs": [
    {
     "name": "stdout",
     "output_type": "stream",
     "text": [
      "Enter a year to check if it's a century year: 875\n",
      "875 is not a century year.\n"
     ]
    }
   ],
   "source": [
    "def is_century_year(year):\n",
    "    if year % 100 == 0:\n",
    "        print(f\"{year} is a century year.\")\n",
    "    else:\n",
    "        print(f\"{year} is not a century year.\")\n",
    "\n",
    "# Test the function\n",
    "input_year = int(input(\"Enter a year to check if it's a century year: \"))\n",
    "is_century_year(input_year)\n"
   ]
  },
  {
   "cell_type": "code",
   "execution_count": 37,
   "id": "8c84fbc2",
   "metadata": {},
   "outputs": [
    {
     "name": "stdout",
     "output_type": "stream",
     "text": [
      "Enter a number to check if it's a perfect square: 2\n",
      "2 is not a perfect square.\n"
     ]
    }
   ],
   "source": [
    "def is_perfect_square(number):\n",
    "    if number < 0:\n",
    "        return False  # Negative numbers are not perfect squares\n",
    "    elif number == 0 or number == 1:\n",
    "        return True  # 0 and 1 are perfect squares\n",
    "    else:\n",
    "        square_root = int(number ** 0.5)\n",
    "        return square_root * square_root == number\n",
    "\n",
    "# Test the function\n",
    "input_number = int(input(\"Enter a number to check if it's a perfect square: \"))\n",
    "\n",
    "if is_perfect_square(input_number):\n",
    "    print(f\"{input_number} is a perfect square.\")\n",
    "else:\n",
    "    print(f\"{input_number} is not a perfect square.\")\n"
   ]
  },
  {
   "cell_type": "code",
   "execution_count": 39,
   "id": "02e14cdb",
   "metadata": {},
   "outputs": [
    {
     "name": "stdout",
     "output_type": "stream",
     "text": [
      "1\n",
      "2\n",
      "3\n",
      "4\n"
     ]
    }
   ],
   "source": [
    "for i in range(1, 11):\n",
    "    if i == 5:\n",
    "        break  # Exit the loop when i equals 5\n",
    "    print(i)\n"
   ]
  },
  {
   "cell_type": "code",
   "execution_count": 40,
   "id": "87649c60",
   "metadata": {},
   "outputs": [
    {
     "name": "stdout",
     "output_type": "stream",
     "text": [
      "Enter your weight in kilograms: 8\n",
      "Enter your height in meters: 9\n",
      "Your BMI is: 0.09876543209876543\n",
      "Interpretation: Underweight\n"
     ]
    }
   ],
   "source": [
    "def calculate_bmi(weight_kg, height_m):\n",
    "    bmi = weight_kg / (height_m ** 2)\n",
    "    return bmi\n",
    "\n",
    "def interpret_bmi(bmi):\n",
    "    if bmi < 18.5:\n",
    "        interpretation = \"Underweight\"\n",
    "    elif 18.5 <= bmi < 25:\n",
    "        interpretation = \"Normal weight\"\n",
    "    elif 25 <= bmi < 30:\n",
    "        interpretation = \"Overweight\"\n",
    "    else:\n",
    "        interpretation = \"Obese\"\n",
    "    return interpretation\n",
    "\n",
    "# Test the program\n",
    "weight = float(input(\"Enter your weight in kilograms: \"))\n",
    "height = float(input(\"Enter your height in meters: \"))\n",
    "\n",
    "bmi = calculate_bmi(weight, height)\n",
    "print(\"Your BMI is:\", bmi)\n",
    "\n",
    "bmi_interpretation = interpret_bmi(bmi)\n",
    "print(\"Interpretation:\", bmi_interpretation)\n"
   ]
  },
  {
   "cell_type": "code",
   "execution_count": 41,
   "id": "fb14061f",
   "metadata": {},
   "outputs": [
    {
     "name": "stdout",
     "output_type": "stream",
     "text": [
      "Filtered numbers: [2, 4, 6, 8, 10]\n"
     ]
    }
   ],
   "source": [
    " # Define a function to filter even numbers\n",
    "def filter_even_numbers(num):\n",
    "    return num % 2 == 0\n",
    "\n",
    "# Define a list of numbers\n",
    "numbers = [1, 2, 3, 4, 5, 6, 7, 8, 9, 10]\n",
    "\n",
    "# Use the filter() function to filter even numbers from the list\n",
    "filtered_numbers = filter(filter_even_numbers, numbers)\n",
    "\n",
    "# Convert the filtered numbers to a list (if needed)\n",
    "filtered_numbers_list = list(filtered_numbers)\n",
    "\n",
    "print(\"Filtered numbers:\", filtered_numbers_list)\n"
   ]
  },
  {
   "cell_type": "code",
   "execution_count": 42,
   "id": "b1373294",
   "metadata": {},
   "outputs": [
    {
     "name": "stdout",
     "output_type": "stream",
     "text": [
      "Please enter a number: 8858500104\n",
      "8858500104 is not a prime number.\n"
     ]
    }
   ],
   "source": [
    "def is_prime(number):\n",
    "    if number <= 1:\n",
    "        return False  # Numbers less than or equal to 1 are not prime\n",
    "    elif number <= 3:\n",
    "        return True  # 2 and 3 are prime numbers\n",
    "    elif number % 2 == 0 or number % 3 == 0:\n",
    "        return False  # Numbers divisible by 2 or 3 are not prime\n",
    "    else:\n",
    "        i = 5\n",
    "        while i * i <= number:\n",
    "            if number % i == 0 or number % (i + 2) == 0:\n",
    "                return False\n",
    "            i += 6\n",
    "        return True\n",
    "\n",
    "# Test the program\n",
    "input_number = int(input(\"Please enter a number: \"))\n",
    "\n",
    "if is_prime(input_number):\n",
    "    print(input_number, \"is a prime number.\")\n",
    "else:\n",
    "    print(input_number, \"is not a prime number.\")\n"
   ]
  },
  {
   "cell_type": "markdown",
   "id": "d2156d96",
   "metadata": {},
   "source": [
    "# Map"
   ]
  },
  {
   "cell_type": "code",
   "execution_count": 43,
   "id": "0f8fbe62",
   "metadata": {},
   "outputs": [
    {
     "name": "stdout",
     "output_type": "stream",
     "text": [
      "Original numbers: [1, 2, 3, 4, 5]\n",
      "Doubled numbers: [2, 4, 6, 8, 10]\n"
     ]
    }
   ],
   "source": [
    "# Define a function to double a number\n",
    "def double(x):\n",
    "    return x * 2\n",
    "\n",
    "# Create a list of numbers\n",
    "numbers = [1, 2, 3, 4, 5]\n",
    "\n",
    "# Use the map() function to apply the double function to each element of the list\n",
    "doubled_numbers = map(double, numbers)\n",
    "\n",
    "# Convert the result to a list (if needed)\n",
    "doubled_numbers_list = list(doubled_numbers)\n",
    "\n",
    "print(\"Original numbers:\", numbers)\n",
    "print(\"Doubled numbers:\", doubled_numbers_list)\n"
   ]
  },
  {
   "cell_type": "code",
   "execution_count": 44,
   "id": "d5d1a5b8",
   "metadata": {},
   "outputs": [
    {
     "name": "stdout",
     "output_type": "stream",
     "text": [
      "Original numbers: [1, 2, 3, 4, 5]\n",
      "Squared numbers: [1, 4, 9, 16, 25]\n"
     ]
    }
   ],
   "source": [
    "# Define a function to square a number\n",
    "def square(x):\n",
    "    return x ** 2\n",
    "\n",
    "# Create a list of numbers\n",
    "numbers = [1, 2, 3, 4, 5]\n",
    "\n",
    "# Use the map() function to apply the square function to each element of the list\n",
    "squared_numbers = map(square, numbers)\n",
    "\n",
    "# Convert the result to a list (if needed)\n",
    "squared_numbers_list = list(squared_numbers)\n",
    "\n",
    "print(\"Original numbers:\", numbers)\n",
    "print(\"Squared numbers:\", squared_numbers_list)\n"
   ]
  },
  {
   "cell_type": "code",
   "execution_count": 45,
   "id": "f11b0638",
   "metadata": {},
   "outputs": [
    {
     "name": "stdout",
     "output_type": "stream",
     "text": [
      "Original names: ['Alice', 'Bob', 'Charlie', 'David']\n",
      "Uppercased names: ['ALICE', 'BOB', 'CHARLIE', 'DAVID']\n"
     ]
    }
   ],
   "source": [
    "# Define a function to convert a name to uppercase\n",
    "def to_uppercase(name):\n",
    "    return name.upper()\n",
    "\n",
    "# List of names\n",
    "names = [\"Alice\", \"Bob\", \"Charlie\", \"David\"]\n",
    "\n",
    "# Use the map() function to apply the to_uppercase function to each name in the list\n",
    "uppercased_names = map(to_uppercase, names)\n",
    "\n",
    "# Convert the result to a list (if needed)\n",
    "uppercased_names_list = list(uppercased_names)\n",
    "\n",
    "print(\"Original names:\", names)\n",
    "print(\"Uppercased names:\", uppercased_names_list)\n"
   ]
  },
  {
   "cell_type": "code",
   "execution_count": 46,
   "id": "f8f59dff",
   "metadata": {},
   "outputs": [
    {
     "name": "stdout",
     "output_type": "stream",
     "text": [
      "Original strings: ['hello', 'world', 'python', 'programming']\n",
      "Length of each word: [5, 5, 6, 11]\n"
     ]
    }
   ],
   "source": [
    "# List of strings\n",
    "strings = [\"hello\", \"world\", \"python\", \"programming\"]\n",
    "\n",
    "# Use the map() function to apply the len() function to each word in the list\n",
    "word_lengths = map(len, strings)\n",
    "\n",
    "# Convert the result to a list (if needed)\n",
    "word_lengths_list = list(word_lengths)\n",
    "\n",
    "print(\"Original strings:\", strings)\n",
    "print(\"Length of each word:\", word_lengths_list)\n"
   ]
  },
  {
   "cell_type": "code",
   "execution_count": 47,
   "id": "6f145106",
   "metadata": {},
   "outputs": [
    {
     "name": "stdout",
     "output_type": "stream",
     "text": [
      "List 1: [1, 2, 3, 4]\n",
      "List 2: [5, 6, 7, 8]\n",
      "Result: [6, 8, 10, 12]\n"
     ]
    }
   ],
   "source": [
    "# Define a custom function that takes two arguments\n",
    "def custom_function(x, y):\n",
    "    return x + y\n",
    "\n",
    "# Define two lists\n",
    "list1 = [1, 2, 3, 4]\n",
    "list2 = [5, 6, 7, 8]\n",
    "\n",
    "# Use the map() function to apply the custom function to elements of both lists simultaneously\n",
    "result = map(custom_function, list1, list2)\n",
    "\n",
    "# Convert the result to a list (if needed)\n",
    "result_list = list(result)\n",
    "\n",
    "print(\"List 1:\", list1)\n",
    "print(\"List 2:\", list2)\n",
    "print(\"Result:\", result_list)\n"
   ]
  },
  {
   "cell_type": "code",
   "execution_count": 48,
   "id": "6925e47b",
   "metadata": {},
   "outputs": [
    {
     "name": "stdout",
     "output_type": "stream",
     "text": [
      "Temperatures in Celsius: [0, 10, 20, 30, 40]\n",
      "Temperatures in Fahrenheit: [32.0, 50.0, 68.0, 86.0, 104.0]\n"
     ]
    }
   ],
   "source": [
    "# Define a function to convert Celsius to Fahrenheit\n",
    "def celsius_to_fahrenheit(celsius):\n",
    "    return (celsius * 9/5) + 32\n",
    "\n",
    "# List of temperatures in Celsius\n",
    "temperatures_celsius = [0, 10, 20, 30, 40]\n",
    "\n",
    "# Use the map() function to apply the celsius_to_fahrenheit function to each temperature in the list\n",
    "temperatures_fahrenheit = map(celsius_to_fahrenheit, temperatures_celsius)\n",
    "\n",
    "# Convert the result to a list (if needed)\n",
    "temperatures_fahrenheit_list = list(temperatures_fahrenheit)\n",
    "\n",
    "print(\"Temperatures in Celsius:\", temperatures_celsius)\n",
    "print(\"Temperatures in Fahrenheit:\", temperatures_fahrenheit_list)\n"
   ]
  },
  {
   "cell_type": "code",
   "execution_count": 49,
   "id": "2a01a49b",
   "metadata": {},
   "outputs": [
    {
     "name": "stdout",
     "output_type": "stream",
     "text": [
      "Original floating-point numbers: [3.14, 2.718, 1.618, 4.669, 6.022]\n",
      "Rounded numbers: [3, 3, 2, 5, 6]\n"
     ]
    }
   ],
   "source": [
    "# List of floating-point numbers\n",
    "float_numbers = [3.14, 2.718, 1.618, 4.669, 6.022]\n",
    "\n",
    "# Use the map() function to apply the round() function to each element in the list\n",
    "rounded_numbers = map(round, float_numbers)\n",
    "\n",
    "# Convert the result to a list (if needed)\n",
    "rounded_numbers_list = list(rounded_numbers)\n",
    "\n",
    "print(\"Original floating-point numbers:\", float_numbers)\n",
    "print(\"Rounded numbers:\", rounded_numbers_list)\n"
   ]
  },
  {
   "cell_type": "markdown",
   "id": "586276c4",
   "metadata": {},
   "source": [
    "# Reduce"
   ]
  },
  {
   "cell_type": "code",
   "execution_count": 50,
   "id": "e9e494ab",
   "metadata": {},
   "outputs": [
    {
     "name": "stdout",
     "output_type": "stream",
     "text": [
      "List of numbers: [1, 2, 3, 4, 5]\n",
      "Result of adding all numbers: 15\n"
     ]
    }
   ],
   "source": [
    "from functools import reduce\n",
    "\n",
    "# Define a function to add two numbers\n",
    "def add(x, y):\n",
    "    return x + y\n",
    "\n",
    "# List of numbers\n",
    "numbers = [1, 2, 3, 4, 5]\n",
    "\n",
    "# Use the reduce() function to add all numbers in the list\n",
    "result = reduce(add, numbers)\n",
    "\n",
    "print(\"List of numbers:\", numbers)\n",
    "print(\"Result of adding all numbers:\", result)\n"
   ]
  },
  {
   "cell_type": "code",
   "execution_count": 51,
   "id": "f3bc8f3d",
   "metadata": {},
   "outputs": [
    {
     "name": "stdout",
     "output_type": "stream",
     "text": [
      "List of numbers: [1, 2, 3, 4, 5]\n",
      "Product of all numbers: 120\n"
     ]
    }
   ],
   "source": [
    "from functools import reduce\n",
    "\n",
    "# Define a function to multiply two numbers\n",
    "def multiply(x, y):\n",
    "    return x * y\n",
    "\n",
    "# List of numbers\n",
    "numbers = [1, 2, 3, 4, 5]\n",
    "\n",
    "# Use the reduce() function to multiply all numbers in the list\n",
    "result = reduce(multiply, numbers)\n",
    "\n",
    "print(\"List of numbers:\", numbers)\n",
    "print(\"Product of all numbers:\", result)\n"
   ]
  },
  {
   "cell_type": "code",
   "execution_count": 52,
   "id": "25fe4ddd",
   "metadata": {},
   "outputs": [
    {
     "name": "stdout",
     "output_type": "stream",
     "text": [
      "List of numbers: [10, 5, 8, 20, 15]\n",
      "Maximum number: 20\n"
     ]
    }
   ],
   "source": [
    "from functools import reduce\n",
    "\n",
    "# Define a function to find the maximum of two numbers\n",
    "def maximum(x, y):\n",
    "    return x if x > y else y\n",
    "\n",
    "# List of numbers\n",
    "numbers = [10, 5, 8, 20, 15]\n",
    "\n",
    "# Use the reduce() function to find the maximum element in the list\n",
    "max_number = reduce(maximum, numbers)\n",
    "\n",
    "print(\"List of numbers:\", numbers)\n",
    "print(\"Maximum number:\", max_number)\n"
   ]
  },
  {
   "cell_type": "code",
   "execution_count": 53,
   "id": "c02df4fa",
   "metadata": {},
   "outputs": [
    {
     "name": "stdout",
     "output_type": "stream",
     "text": [
      "List of strings: ['hello', 'world', 'python', 'programming']\n",
      "Concatenated string: helloworldpythonprogramming\n"
     ]
    }
   ],
   "source": [
    "from functools import reduce\n",
    "\n",
    "# List of strings\n",
    "strings = [\"hello\", \"world\", \"python\", \"programming\"]\n",
    "\n",
    "# Use the reduce() function to concatenate the strings\n",
    "result = reduce(lambda x, y: x + y, strings)\n",
    "\n",
    "print(\"List of strings:\", strings)\n",
    "print(\"Concatenated string:\", result)\n"
   ]
  },
  {
   "cell_type": "code",
   "execution_count": 54,
   "id": "6b349527",
   "metadata": {},
   "outputs": [
    {
     "name": "stdout",
     "output_type": "stream",
     "text": [
      "Enter a number: 88\n",
      "Factorial of 88 is 185482642257398439114796845645546284380220968949399346684421580986889562184028199319100141244804501828416633516851200000000000000000000\n"
     ]
    }
   ],
   "source": [
    "from functools import reduce\n",
    "\n",
    "# Define a function to multiply two numbers\n",
    "def multiply(x, y):\n",
    "    return x * y\n",
    "\n",
    "# Function to calculate factorial\n",
    "def factorial(n):\n",
    "    # Use reduce() function to multiply all numbers from 1 to n\n",
    "    return reduce(multiply, range(1, n + 1), 1)\n",
    "\n",
    "# Input number\n",
    "number = int(input(\"Enter a number: \"))\n",
    "\n",
    "# Calculate factorial\n",
    "result = factorial(number)\n",
    "\n",
    "print(\"Factorial of\", number, \"is\", result)\n"
   ]
  },
  {
   "cell_type": "code",
   "execution_count": 55,
   "id": "100416be",
   "metadata": {},
   "outputs": [
    {
     "name": "stdout",
     "output_type": "stream",
     "text": [
      "List of numbers: [24, 36, 48, 60]\n",
      "GCD of the numbers: 12\n"
     ]
    }
   ],
   "source": [
    "from functools import reduce\n",
    "import math\n",
    "\n",
    "# List of numbers\n",
    "numbers = [24, 36, 48, 60]\n",
    "\n",
    "# Function to find GCD of two numbers\n",
    "def gcd(x, y):\n",
    "    return math.gcd(x, y)\n",
    "\n",
    "# Use the reduce() function to find the GCD of all numbers in the list\n",
    "result = reduce(gcd, numbers)\n",
    "\n",
    "print(\"List of numbers:\", numbers)\n",
    "print(\"GCD of the numbers:\", result)\n"
   ]
  },
  {
   "cell_type": "code",
   "execution_count": 56,
   "id": "c4237693",
   "metadata": {},
   "outputs": [
    {
     "name": "stdout",
     "output_type": "stream",
     "text": [
      "Enter a number: 88\n",
      "Sum of digits of 88 is 16\n"
     ]
    }
   ],
   "source": [
    "from functools import reduce\n",
    "\n",
    "# Function to calculate the sum of digits\n",
    "def sum_of_digits(number):\n",
    "    # Convert the number to a string and then to a list of digits\n",
    "    digits = list(map(int, str(number)))\n",
    "    # Use the reduce() function to sum up all digits\n",
    "    return reduce(lambda x, y: x + y, digits)\n",
    "\n",
    "# Input number\n",
    "number = int(input(\"Enter a number: \"))\n",
    "\n",
    "# Calculate sum of digits\n",
    "result = sum_of_digits(number)\n",
    "\n",
    "print(\"Sum of digits of\", number, \"is\", result)\n"
   ]
  },
  {
   "cell_type": "markdown",
   "id": "122e581f",
   "metadata": {},
   "source": [
    "# Filter"
   ]
  },
  {
   "cell_type": "code",
   "execution_count": 57,
   "id": "9e876313",
   "metadata": {},
   "outputs": [
    {
     "name": "stdout",
     "output_type": "stream",
     "text": [
      "Original list of numbers: [1, 2, 3, 4, 5, 6, 7, 8, 9, 10]\n",
      "Filtered even numbers: [2, 4, 6, 8, 10]\n"
     ]
    }
   ],
   "source": [
    "# Define the predicate function\n",
    "def is_even(n):\n",
    "    return n % 2 == 0\n",
    "\n",
    "# List of numbers\n",
    "numbers = [1, 2, 3, 4, 5, 6, 7, 8, 9, 10]\n",
    "\n",
    "# Use the filter() function to filter even numbers\n",
    "even_numbers = filter(is_even, numbers)\n",
    "\n",
    "# Convert the result to a list (if needed)\n",
    "even_numbers_list = list(even_numbers)\n",
    "\n",
    "print(\"Original list of numbers:\", numbers)\n",
    "print(\"Filtered even numbers:\", even_numbers_list)\n"
   ]
  },
  {
   "cell_type": "code",
   "execution_count": 58,
   "id": "f0b9405a",
   "metadata": {},
   "outputs": [
    {
     "name": "stdout",
     "output_type": "stream",
     "text": [
      "Original list of numbers: [1, 2, 3, 4, 5, 6, 7, 8, 9, 10]\n",
      "Filtered even numbers: [2, 4, 6, 8, 10]\n"
     ]
    }
   ],
   "source": [
    "# List of numbers\n",
    "numbers = [1, 2, 3, 4, 5, 6, 7, 8, 9, 10]\n",
    "\n",
    "# Use the filter() function to filter even numbers\n",
    "even_numbers = filter(lambda x: x % 2 == 0, numbers)\n",
    "\n",
    "# Convert the result to a list (if needed)\n",
    "even_numbers_list = list(even_numbers)\n",
    "\n",
    "print(\"Original list of numbers:\", numbers)\n",
    "print(\"Filtered even numbers:\", even_numbers_list)\n"
   ]
  },
  {
   "cell_type": "code",
   "execution_count": 59,
   "id": "d9e513d5",
   "metadata": {},
   "outputs": [
    {
     "name": "stdout",
     "output_type": "stream",
     "text": [
      "Original list of names: ['Alice', 'Bob', 'Charlie', 'David', 'Eve', 'Frank']\n",
      "Names starting with 'C': ['Charlie']\n"
     ]
    }
   ],
   "source": [
    " # List of names\n",
    "names = [\"Alice\", \"Bob\", \"Charlie\", \"David\", \"Eve\", \"Frank\"]\n",
    "\n",
    "# Specific letter to filter by\n",
    "specific_letter = \"C\"\n",
    "\n",
    "# Use the filter() function to select names starting with the specific letter\n",
    "selected_names = filter(lambda name: name.startswith(specific_letter), names)\n",
    "\n",
    "# Convert the result to a list (if needed)\n",
    "selected_names_list = list(selected_names)\n",
    "\n",
    "print(\"Original list of names:\", names)\n",
    "print(\"Names starting with '{}':\".format(specific_letter), selected_names_list)\n"
   ]
  },
  {
   "cell_type": "code",
   "execution_count": 60,
   "id": "778ec2a5",
   "metadata": {},
   "outputs": [
    {
     "name": "stdout",
     "output_type": "stream",
     "text": [
      "Original list of numbers: [1, 2, 3, 4, 5, 6, 7, 8, 9, 10]\n",
      "Prime numbers: [2, 3, 5, 7]\n"
     ]
    }
   ],
   "source": [
    "# Function to check if a number is prime\n",
    "def is_prime(n):\n",
    "    if n <= 1:\n",
    "        return False\n",
    "    for i in range(2, int(n ** 0.5) + 1):\n",
    "        if n % i == 0:\n",
    "            return False\n",
    "    return True\n",
    "\n",
    "# List of numbers\n",
    "numbers = [1, 2, 3, 4, 5, 6, 7, 8, 9, 10]\n",
    "\n",
    "# Use the filter() function to select prime numbers\n",
    "prime_numbers = filter(is_prime, numbers)\n",
    "\n",
    "# Convert the result to a list (if needed)\n",
    "prime_numbers_list = list(prime_numbers)\n",
    "\n",
    "print(\"Original list of numbers:\", numbers)\n",
    "print(\"Prime numbers:\", prime_numbers_list)\n"
   ]
  },
  {
   "cell_type": "code",
   "execution_count": 61,
   "id": "ea2e7ec4",
   "metadata": {},
   "outputs": [
    {
     "name": "stdout",
     "output_type": "stream",
     "text": [
      "Original list: [1, None, 3, None, 5, None, 7, None, 9]\n",
      "List with None values removed: [1, 3, 5, 7, 9]\n"
     ]
    }
   ],
   "source": [
    "# List with None values\n",
    "values = [1, None, 3, None, 5, None, 7, None, 9]\n",
    "\n",
    "# Use the filter() function to remove None values\n",
    "filtered_values = filter(lambda x: x is not None, values)\n",
    "\n",
    "# Convert the result to a list (if needed)\n",
    "filtered_values_list = list(filtered_values)\n",
    "\n",
    "print(\"Original list:\", values)\n",
    "print(\"List with None values removed:\", filtered_values_list)\n"
   ]
  },
  {
   "cell_type": "code",
   "execution_count": 62,
   "id": "496bfa23",
   "metadata": {},
   "outputs": [
    {
     "name": "stdout",
     "output_type": "stream",
     "text": [
      "Original list of words: ['apple', 'banana', 'orange', 'grape', 'kiwi', 'pineapple']\n",
      "Selected words longer than 5 characters: ['banana', 'orange', 'pineapple']\n"
     ]
    }
   ],
   "source": [
    "# List of strings\n",
    "words = [\"apple\", \"banana\", \"orange\", \"grape\", \"kiwi\", \"pineapple\"]\n",
    "\n",
    "# Minimum length for words to be selected\n",
    "min_length = 5\n",
    "\n",
    "# Use the filter() function to select words longer than min_length\n",
    "selected_words = filter(lambda word: len(word) > min_length, words)\n",
    "\n",
    "# Convert the result to a list (if needed)\n",
    "selected_words_list = list(selected_words)\n",
    "\n",
    "print(\"Original list of words:\", words)\n",
    "print(\"Selected words longer than {} characters:\".format(min_length), selected_words_list)\n"
   ]
  },
  {
   "cell_type": "code",
   "execution_count": 63,
   "id": "5c049801",
   "metadata": {},
   "outputs": [
    {
     "name": "stdout",
     "output_type": "stream",
     "text": [
      "Original list of values: [10, 20, 30, 40, 50, 60]\n",
      "Selected values greater than 30: [40, 50, 60]\n"
     ]
    }
   ],
   "source": [
    "# List of values\n",
    "values = [10, 20, 30, 40, 50, 60]\n",
    "\n",
    "# Threshold value\n",
    "threshold = 30\n",
    "\n",
    "# Use the filter() function to select elements greater than the threshold\n",
    "selected_values = filter(lambda x: x > threshold, values)\n",
    "\n",
    "# Convert the result to a list (if needed)\n",
    "selected_values_list = list(selected_values)\n",
    "\n",
    "print(\"Original list of values:\", values)\n",
    "print(\"Selected values greater than {}:\".format(threshold), selected_values_list)\n"
   ]
  },
  {
   "cell_type": "markdown",
   "id": "ac61ced9",
   "metadata": {},
   "source": [
    "# Recursion"
   ]
  },
  {
   "cell_type": "code",
   "execution_count": 64,
   "id": "976f655d",
   "metadata": {},
   "outputs": [],
   "source": [
    "def factorial(n):\n",
    "    if n == 0:\n",
    "        return 1\n",
    "    else:\n",
    "        return n * factorial(n - 1)\n"
   ]
  },
  {
   "cell_type": "code",
   "execution_count": 1,
   "id": "332ef5ae",
   "metadata": {},
   "outputs": [],
   "source": [
    "def factorial(n):\n",
    "    result = 1\n",
    "    for i in range(1, n + 1):\n",
    "        result *= i\n",
    "    return result\n"
   ]
  },
  {
   "cell_type": "code",
   "execution_count": 2,
   "id": "48499fbe",
   "metadata": {},
   "outputs": [
    {
     "name": "stdout",
     "output_type": "stream",
     "text": [
      "Enter a number: 77\n",
      "Factorial of 77 is 145183092028285869634070784086308284983740379224208358846781574688061991349156420080065207861248000000000000000000\n"
     ]
    }
   ],
   "source": [
    "def factorial(n):\n",
    "    # Base case: factorial of 0 or 1 is 1\n",
    "    if n == 0 or n == 1:\n",
    "        return 1\n",
    "    # Recursive case: factorial of n is n multiplied by factorial of (n - 1)\n",
    "    else:\n",
    "        return n * factorial(n - 1)\n",
    "\n",
    "# Input number\n",
    "number = int(input(\"Enter a number: \"))\n",
    "\n",
    "# Calculate factorial using the factorial() function\n",
    "result = factorial(number)\n",
    "\n",
    "print(\"Factorial of\", number, \"is\", result)\n"
   ]
  },
  {
   "cell_type": "code",
   "execution_count": null,
   "id": "dfd33d53",
   "metadata": {},
   "outputs": [
    {
     "name": "stdout",
     "output_type": "stream",
     "text": [
      "Enter the value of n: 98\n"
     ]
    }
   ],
   "source": [
    "def fibonacci(n):\n",
    "    # Base cases: fibonacci(0) = 0 and fibonacci(1) = 1\n",
    "    if n == 0:\n",
    "        return 0\n",
    "    elif n == 1:\n",
    "        return 1\n",
    "    # Recursive case: fibonacci(n) = fibonacci(n-1) + fibonacci(n-2)\n",
    "    else:\n",
    "        return fibonacci(n - 1) + fibonacci(n - 2)\n",
    "\n",
    "# Input the value of n\n",
    "n = int(input(\"Enter the value of n: \"))\n",
    "\n",
    "# Calculate the nth Fibonacci number using the fibonacci() function\n",
    "result = fibonacci(n)\n",
    "\n",
    "print(\"The\", n, \"th Fibonacci number is\", result)\n"
   ]
  },
  {
   "cell_type": "code",
   "execution_count": 1,
   "id": "f4b891a7",
   "metadata": {},
   "outputs": [
    {
     "name": "stdout",
     "output_type": "stream",
     "text": [
      "The sum of all elements in the list is: 15\n"
     ]
    }
   ],
   "source": [
    "def list_sum(lst):\n",
    "    # Base case: if the list is empty, return 0\n",
    "    if len(lst) == 0:\n",
    "        return 0\n",
    "    # Recursive case: return the sum of the first element and the sum of the rest of the list\n",
    "    else:\n",
    "        return lst[0] + list_sum(lst[1:])\n",
    "\n",
    "# Example list\n",
    "my_list = [1, 2, 3, 4, 5]\n",
    "\n",
    "# Calculate the sum of all elements using the list_sum() function\n",
    "result = list_sum(my_list)\n",
    "\n",
    "print(\"The sum of all elements in the list is:\", result)\n"
   ]
  },
  {
   "cell_type": "code",
   "execution_count": 2,
   "id": "9fad450b",
   "metadata": {},
   "outputs": [
    {
     "name": "stdout",
     "output_type": "stream",
     "text": [
      "Enter the first number: 88\n",
      "Enter the second number: 88\n",
      "The greatest common divisor (GCD) of 88 and 88 is 88\n"
     ]
    }
   ],
   "source": [
    "def gcd(a, b):\n",
    "    # Base case: if b is 0, GCD is a\n",
    "    if b == 0:\n",
    "        return a\n",
    "    # Recursive case: GCD(a, b) is the same as GCD(b, a % b)\n",
    "    else:\n",
    "        return gcd(b, a % b)\n",
    "\n",
    "# Input numbers\n",
    "num1 = int(input(\"Enter the first number: \"))\n",
    "num2 = int(input(\"Enter the second number: \"))\n",
    "\n",
    "# Calculate the GCD using the gcd() function\n",
    "result = gcd(num1, num2)\n",
    "\n",
    "print(\"The greatest common divisor (GCD) of\", num1, \"and\", num2, \"is\", result)\n"
   ]
  },
  {
   "cell_type": "code",
   "execution_count": 3,
   "id": "73e759a3",
   "metadata": {},
   "outputs": [
    {
     "name": "stdout",
     "output_type": "stream",
     "text": [
      "Enter a string: Roshan \n",
      "The reversed string is:  nahsoR\n"
     ]
    }
   ],
   "source": [
    "def reverse_string(s):\n",
    "    # Base case: if the string is empty or has only one character, return the string\n",
    "    if len(s) <= 1:\n",
    "        return s\n",
    "    # Recursive case: return the last character concatenated with the reversed substring\n",
    "    else:\n",
    "        return s[-1] + reverse_string(s[:-1])\n",
    "\n",
    "# Input string\n",
    "input_string = input(\"Enter a string: \")\n",
    "\n",
    "# Reverse the string using the reverse_string() function\n",
    "reversed_string = reverse_string(input_string)\n",
    "\n",
    "print(\"The reversed string is:\", reversed_string)\n"
   ]
  },
  {
   "cell_type": "code",
   "execution_count": 4,
   "id": "3b31a0b5",
   "metadata": {},
   "outputs": [
    {
     "name": "stdout",
     "output_type": "stream",
     "text": [
      "Enter the base number (x): 8\n",
      "Enter the exponent (n): 8\n",
      "The result of 8.0 raised to the power of 8 is: 16777216.0\n"
     ]
    }
   ],
   "source": [
    "def power(x, n):\n",
    "    # Base case: if n is 0, return 1\n",
    "    if n == 0:\n",
    "        return 1\n",
    "    # Recursive case: return x multiplied by power(x, n-1)\n",
    "    else:\n",
    "        return x * power(x, n - 1)\n",
    "\n",
    "# Input number and exponent\n",
    "x = float(input(\"Enter the base number (x): \"))\n",
    "n = int(input(\"Enter the exponent (n): \"))\n",
    "\n",
    "# Calculate the power using the power() function\n",
    "result = power(x, n)\n",
    "\n",
    "print(\"The result of\", x, \"raised to the power of\", n, \"is:\", result)\n"
   ]
  },
  {
   "cell_type": "code",
   "execution_count": 10,
   "id": "4a7cb6f0",
   "metadata": {},
   "outputs": [
    {
     "name": "stdout",
     "output_type": "stream",
     "text": [
      "Enter a string: Roshan\n",
      "All permutations of the string are:\n",
      "Roshan\n",
      "Roshna\n",
      "Rosahn\n",
      "Rosanh\n",
      "Rosnha\n",
      "Rosnah\n",
      "Rohsan\n",
      "Rohsna\n",
      "Rohasn\n",
      "Rohans\n",
      "Rohnsa\n",
      "Rohnas\n",
      "Roashn\n",
      "Roasnh\n",
      "Roahsn\n",
      "Roahns\n",
      "Roansh\n",
      "Roanhs\n",
      "Ronsha\n",
      "Ronsah\n",
      "Ronhsa\n",
      "Ronhas\n",
      "Ronash\n",
      "Ronahs\n",
      "Rsohan\n",
      "Rsohna\n",
      "Rsoahn\n",
      "Rsoanh\n",
      "Rsonha\n",
      "Rsonah\n",
      "Rshoan\n",
      "Rshona\n",
      "Rshaon\n",
      "Rshano\n",
      "Rshnoa\n",
      "Rshnao\n",
      "Rsaohn\n",
      "Rsaonh\n",
      "Rsahon\n",
      "Rsahno\n",
      "Rsanoh\n",
      "Rsanho\n",
      "Rsnoha\n",
      "Rsnoah\n",
      "Rsnhoa\n",
      "Rsnhao\n",
      "Rsnaoh\n",
      "Rsnaho\n",
      "Rhosan\n",
      "Rhosna\n",
      "Rhoasn\n",
      "Rhoans\n",
      "Rhonsa\n",
      "Rhonas\n",
      "Rhsoan\n",
      "Rhsona\n",
      "Rhsaon\n",
      "Rhsano\n",
      "Rhsnoa\n",
      "Rhsnao\n",
      "Rhaosn\n",
      "Rhaons\n",
      "Rhason\n",
      "Rhasno\n",
      "Rhanos\n",
      "Rhanso\n",
      "Rhnosa\n",
      "Rhnoas\n",
      "Rhnsoa\n",
      "Rhnsao\n",
      "Rhnaos\n",
      "Rhnaso\n",
      "Raoshn\n",
      "Raosnh\n",
      "Raohsn\n",
      "Raohns\n",
      "Raonsh\n",
      "Raonhs\n",
      "Rasohn\n",
      "Rasonh\n",
      "Rashon\n",
      "Rashno\n",
      "Rasnoh\n",
      "Rasnho\n",
      "Rahosn\n",
      "Rahons\n",
      "Rahson\n",
      "Rahsno\n",
      "Rahnos\n",
      "Rahnso\n",
      "Ranosh\n",
      "Ranohs\n",
      "Ransoh\n",
      "Ransho\n",
      "Ranhos\n",
      "Ranhso\n",
      "Rnosha\n",
      "Rnosah\n",
      "Rnohsa\n",
      "Rnohas\n",
      "Rnoash\n",
      "Rnoahs\n",
      "Rnsoha\n",
      "Rnsoah\n",
      "Rnshoa\n",
      "Rnshao\n",
      "Rnsaoh\n",
      "Rnsaho\n",
      "Rnhosa\n",
      "Rnhoas\n",
      "Rnhsoa\n",
      "Rnhsao\n",
      "Rnhaos\n",
      "Rnhaso\n",
      "Rnaosh\n",
      "Rnaohs\n",
      "Rnasoh\n",
      "Rnasho\n",
      "Rnahos\n",
      "Rnahso\n",
      "oRshan\n",
      "oRshna\n",
      "oRsahn\n",
      "oRsanh\n",
      "oRsnha\n",
      "oRsnah\n",
      "oRhsan\n",
      "oRhsna\n",
      "oRhasn\n",
      "oRhans\n",
      "oRhnsa\n",
      "oRhnas\n",
      "oRashn\n",
      "oRasnh\n",
      "oRahsn\n",
      "oRahns\n",
      "oRansh\n",
      "oRanhs\n",
      "oRnsha\n",
      "oRnsah\n",
      "oRnhsa\n",
      "oRnhas\n",
      "oRnash\n",
      "oRnahs\n",
      "osRhan\n",
      "osRhna\n",
      "osRahn\n",
      "osRanh\n",
      "osRnha\n",
      "osRnah\n",
      "oshRan\n",
      "oshRna\n",
      "oshaRn\n",
      "oshanR\n",
      "oshnRa\n",
      "oshnaR\n",
      "osaRhn\n",
      "osaRnh\n",
      "osahRn\n",
      "osahnR\n",
      "osanRh\n",
      "osanhR\n",
      "osnRha\n",
      "osnRah\n",
      "osnhRa\n",
      "osnhaR\n",
      "osnaRh\n",
      "osnahR\n",
      "ohRsan\n",
      "ohRsna\n",
      "ohRasn\n",
      "ohRans\n",
      "ohRnsa\n",
      "ohRnas\n",
      "ohsRan\n",
      "ohsRna\n",
      "ohsaRn\n",
      "ohsanR\n",
      "ohsnRa\n",
      "ohsnaR\n",
      "ohaRsn\n",
      "ohaRns\n",
      "ohasRn\n",
      "ohasnR\n",
      "ohanRs\n",
      "ohansR\n",
      "ohnRsa\n",
      "ohnRas\n",
      "ohnsRa\n",
      "ohnsaR\n",
      "ohnaRs\n",
      "ohnasR\n",
      "oaRshn\n",
      "oaRsnh\n",
      "oaRhsn\n",
      "oaRhns\n",
      "oaRnsh\n",
      "oaRnhs\n",
      "oasRhn\n",
      "oasRnh\n",
      "oashRn\n",
      "oashnR\n",
      "oasnRh\n",
      "oasnhR\n",
      "oahRsn\n",
      "oahRns\n",
      "oahsRn\n",
      "oahsnR\n",
      "oahnRs\n",
      "oahnsR\n",
      "oanRsh\n",
      "oanRhs\n",
      "oansRh\n",
      "oanshR\n",
      "oanhRs\n",
      "oanhsR\n",
      "onRsha\n",
      "onRsah\n",
      "onRhsa\n",
      "onRhas\n",
      "onRash\n",
      "onRahs\n",
      "onsRha\n",
      "onsRah\n",
      "onshRa\n",
      "onshaR\n",
      "onsaRh\n",
      "onsahR\n",
      "onhRsa\n",
      "onhRas\n",
      "onhsRa\n",
      "onhsaR\n",
      "onhaRs\n",
      "onhasR\n",
      "onaRsh\n",
      "onaRhs\n",
      "onasRh\n",
      "onashR\n",
      "onahRs\n",
      "onahsR\n",
      "sRohan\n",
      "sRohna\n",
      "sRoahn\n",
      "sRoanh\n",
      "sRonha\n",
      "sRonah\n",
      "sRhoan\n",
      "sRhona\n",
      "sRhaon\n",
      "sRhano\n",
      "sRhnoa\n",
      "sRhnao\n",
      "sRaohn\n",
      "sRaonh\n",
      "sRahon\n",
      "sRahno\n",
      "sRanoh\n",
      "sRanho\n",
      "sRnoha\n",
      "sRnoah\n",
      "sRnhoa\n",
      "sRnhao\n",
      "sRnaoh\n",
      "sRnaho\n",
      "soRhan\n",
      "soRhna\n",
      "soRahn\n",
      "soRanh\n",
      "soRnha\n",
      "soRnah\n",
      "sohRan\n",
      "sohRna\n",
      "sohaRn\n",
      "sohanR\n",
      "sohnRa\n",
      "sohnaR\n",
      "soaRhn\n",
      "soaRnh\n",
      "soahRn\n",
      "soahnR\n",
      "soanRh\n",
      "soanhR\n",
      "sonRha\n",
      "sonRah\n",
      "sonhRa\n",
      "sonhaR\n",
      "sonaRh\n",
      "sonahR\n",
      "shRoan\n",
      "shRona\n",
      "shRaon\n",
      "shRano\n",
      "shRnoa\n",
      "shRnao\n",
      "shoRan\n",
      "shoRna\n",
      "shoaRn\n",
      "shoanR\n",
      "shonRa\n",
      "shonaR\n",
      "shaRon\n",
      "shaRno\n",
      "shaoRn\n",
      "shaonR\n",
      "shanRo\n",
      "shanoR\n",
      "shnRoa\n",
      "shnRao\n",
      "shnoRa\n",
      "shnoaR\n",
      "shnaRo\n",
      "shnaoR\n",
      "saRohn\n",
      "saRonh\n",
      "saRhon\n",
      "saRhno\n",
      "saRnoh\n",
      "saRnho\n",
      "saoRhn\n",
      "saoRnh\n",
      "saohRn\n",
      "saohnR\n",
      "saonRh\n",
      "saonhR\n",
      "sahRon\n",
      "sahRno\n",
      "sahoRn\n",
      "sahonR\n",
      "sahnRo\n",
      "sahnoR\n",
      "sanRoh\n",
      "sanRho\n",
      "sanoRh\n",
      "sanohR\n",
      "sanhRo\n",
      "sanhoR\n",
      "snRoha\n",
      "snRoah\n",
      "snRhoa\n",
      "snRhao\n",
      "snRaoh\n",
      "snRaho\n",
      "snoRha\n",
      "snoRah\n",
      "snohRa\n",
      "snohaR\n",
      "snoaRh\n",
      "snoahR\n",
      "snhRoa\n",
      "snhRao\n",
      "snhoRa\n",
      "snhoaR\n",
      "snhaRo\n",
      "snhaoR\n",
      "snaRoh\n",
      "snaRho\n",
      "snaoRh\n",
      "snaohR\n",
      "snahRo\n",
      "snahoR\n",
      "hRosan\n",
      "hRosna\n",
      "hRoasn\n",
      "hRoans\n",
      "hRonsa\n",
      "hRonas\n",
      "hRsoan\n",
      "hRsona\n",
      "hRsaon\n",
      "hRsano\n",
      "hRsnoa\n",
      "hRsnao\n",
      "hRaosn\n",
      "hRaons\n",
      "hRason\n",
      "hRasno\n",
      "hRanos\n",
      "hRanso\n",
      "hRnosa\n",
      "hRnoas\n",
      "hRnsoa\n",
      "hRnsao\n",
      "hRnaos\n",
      "hRnaso\n",
      "hoRsan\n",
      "hoRsna\n",
      "hoRasn\n",
      "hoRans\n",
      "hoRnsa\n",
      "hoRnas\n",
      "hosRan\n",
      "hosRna\n",
      "hosaRn\n",
      "hosanR\n",
      "hosnRa\n",
      "hosnaR\n",
      "hoaRsn\n",
      "hoaRns\n",
      "hoasRn\n",
      "hoasnR\n",
      "hoanRs\n",
      "hoansR\n",
      "honRsa\n",
      "honRas\n",
      "honsRa\n",
      "honsaR\n",
      "honaRs\n",
      "honasR\n",
      "hsRoan\n",
      "hsRona\n",
      "hsRaon\n",
      "hsRano\n",
      "hsRnoa\n",
      "hsRnao\n",
      "hsoRan\n",
      "hsoRna\n",
      "hsoaRn\n",
      "hsoanR\n",
      "hsonRa\n",
      "hsonaR\n",
      "hsaRon\n",
      "hsaRno\n",
      "hsaoRn\n",
      "hsaonR\n",
      "hsanRo\n",
      "hsanoR\n",
      "hsnRoa\n",
      "hsnRao\n",
      "hsnoRa\n",
      "hsnoaR\n",
      "hsnaRo\n",
      "hsnaoR\n",
      "haRosn\n",
      "haRons\n",
      "haRson\n",
      "haRsno\n",
      "haRnos\n",
      "haRnso\n",
      "haoRsn\n",
      "haoRns\n",
      "haosRn\n",
      "haosnR\n",
      "haonRs\n",
      "haonsR\n",
      "hasRon\n",
      "hasRno\n",
      "hasoRn\n",
      "hasonR\n",
      "hasnRo\n",
      "hasnoR\n",
      "hanRos\n",
      "hanRso\n",
      "hanoRs\n",
      "hanosR\n",
      "hansRo\n",
      "hansoR\n",
      "hnRosa\n",
      "hnRoas\n",
      "hnRsoa\n",
      "hnRsao\n",
      "hnRaos\n",
      "hnRaso\n",
      "hnoRsa\n",
      "hnoRas\n",
      "hnosRa\n",
      "hnosaR\n",
      "hnoaRs\n",
      "hnoasR\n",
      "hnsRoa\n",
      "hnsRao\n",
      "hnsoRa\n",
      "hnsoaR\n",
      "hnsaRo\n",
      "hnsaoR\n",
      "hnaRos\n",
      "hnaRso\n",
      "hnaoRs\n",
      "hnaosR\n",
      "hnasRo\n",
      "hnasoR\n",
      "aRoshn\n",
      "aRosnh\n",
      "aRohsn\n",
      "aRohns\n",
      "aRonsh\n",
      "aRonhs\n",
      "aRsohn\n",
      "aRsonh\n",
      "aRshon\n",
      "aRshno\n",
      "aRsnoh\n",
      "aRsnho\n",
      "aRhosn\n",
      "aRhons\n",
      "aRhson\n",
      "aRhsno\n",
      "aRhnos\n",
      "aRhnso\n",
      "aRnosh\n",
      "aRnohs\n",
      "aRnsoh\n",
      "aRnsho\n",
      "aRnhos\n",
      "aRnhso\n",
      "aoRshn\n",
      "aoRsnh\n",
      "aoRhsn\n",
      "aoRhns\n",
      "aoRnsh\n",
      "aoRnhs\n",
      "aosRhn\n",
      "aosRnh\n",
      "aoshRn\n",
      "aoshnR\n",
      "aosnRh\n",
      "aosnhR\n",
      "aohRsn\n",
      "aohRns\n",
      "aohsRn\n",
      "aohsnR\n",
      "aohnRs\n",
      "aohnsR\n",
      "aonRsh\n",
      "aonRhs\n",
      "aonsRh\n",
      "aonshR\n",
      "aonhRs\n",
      "aonhsR\n",
      "asRohn\n",
      "asRonh\n",
      "asRhon\n",
      "asRhno\n",
      "asRnoh\n",
      "asRnho\n",
      "asoRhn\n",
      "asoRnh\n",
      "asohRn\n",
      "asohnR\n",
      "asonRh\n",
      "asonhR\n",
      "ashRon\n",
      "ashRno\n",
      "ashoRn\n",
      "ashonR\n",
      "ashnRo\n",
      "ashnoR\n",
      "asnRoh\n",
      "asnRho\n",
      "asnoRh\n",
      "asnohR\n",
      "asnhRo\n",
      "asnhoR\n",
      "ahRosn\n",
      "ahRons\n",
      "ahRson\n",
      "ahRsno\n",
      "ahRnos\n",
      "ahRnso\n",
      "ahoRsn\n",
      "ahoRns\n",
      "ahosRn\n",
      "ahosnR\n",
      "ahonRs\n",
      "ahonsR\n",
      "ahsRon\n",
      "ahsRno\n",
      "ahsoRn\n",
      "ahsonR\n",
      "ahsnRo\n",
      "ahsnoR\n",
      "ahnRos\n",
      "ahnRso\n",
      "ahnoRs\n",
      "ahnosR\n",
      "ahnsRo\n",
      "ahnsoR\n",
      "anRosh\n",
      "anRohs\n",
      "anRsoh\n",
      "anRsho\n",
      "anRhos\n",
      "anRhso\n",
      "anoRsh\n",
      "anoRhs\n",
      "anosRh\n",
      "anoshR\n",
      "anohRs\n",
      "anohsR\n",
      "ansRoh\n",
      "ansRho\n",
      "ansoRh\n",
      "ansohR\n",
      "anshRo\n",
      "anshoR\n",
      "anhRos\n",
      "anhRso\n",
      "anhoRs\n",
      "anhosR\n",
      "anhsRo\n",
      "anhsoR\n",
      "nRosha\n",
      "nRosah\n",
      "nRohsa\n",
      "nRohas\n",
      "nRoash\n",
      "nRoahs\n",
      "nRsoha\n",
      "nRsoah\n",
      "nRshoa\n",
      "nRshao\n",
      "nRsaoh\n",
      "nRsaho\n",
      "nRhosa\n",
      "nRhoas\n",
      "nRhsoa\n",
      "nRhsao\n",
      "nRhaos\n",
      "nRhaso\n",
      "nRaosh\n",
      "nRaohs\n",
      "nRasoh\n",
      "nRasho\n",
      "nRahos\n",
      "nRahso\n",
      "noRsha\n",
      "noRsah\n",
      "noRhsa\n",
      "noRhas\n",
      "noRash\n",
      "noRahs\n",
      "nosRha\n",
      "nosRah\n",
      "noshRa\n",
      "noshaR\n",
      "nosaRh\n",
      "nosahR\n",
      "nohRsa\n",
      "nohRas\n",
      "nohsRa\n",
      "nohsaR\n",
      "nohaRs\n",
      "nohasR\n",
      "noaRsh\n",
      "noaRhs\n",
      "noasRh\n",
      "noashR\n",
      "noahRs\n",
      "noahsR\n",
      "nsRoha\n",
      "nsRoah\n",
      "nsRhoa\n",
      "nsRhao\n",
      "nsRaoh\n",
      "nsRaho\n",
      "nsoRha\n",
      "nsoRah\n",
      "nsohRa\n",
      "nsohaR\n",
      "nsoaRh\n",
      "nsoahR\n",
      "nshRoa\n",
      "nshRao\n",
      "nshoRa\n",
      "nshoaR\n",
      "nshaRo\n",
      "nshaoR\n",
      "nsaRoh\n",
      "nsaRho\n",
      "nsaoRh\n",
      "nsaohR\n",
      "nsahRo\n",
      "nsahoR\n",
      "nhRosa\n",
      "nhRoas\n",
      "nhRsoa\n",
      "nhRsao\n",
      "nhRaos\n",
      "nhRaso\n",
      "nhoRsa\n",
      "nhoRas\n",
      "nhosRa\n",
      "nhosaR\n",
      "nhoaRs\n",
      "nhoasR\n",
      "nhsRoa\n",
      "nhsRao\n",
      "nhsoRa\n",
      "nhsoaR\n",
      "nhsaRo\n",
      "nhsaoR\n",
      "nhaRos\n",
      "nhaRso\n",
      "nhaoRs\n",
      "nhaosR\n",
      "nhasRo\n",
      "nhasoR\n",
      "naRosh\n",
      "naRohs\n",
      "naRsoh\n",
      "naRsho\n",
      "naRhos\n",
      "naRhso\n",
      "naoRsh\n",
      "naoRhs\n",
      "naosRh\n",
      "naoshR\n",
      "naohRs\n",
      "naohsR\n",
      "nasRoh\n",
      "nasRho\n",
      "nasoRh\n",
      "nasohR\n",
      "nashRo\n",
      "nashoR\n",
      "nahRos\n",
      "nahRso\n",
      "nahoRs\n",
      "nahosR\n",
      "nahsRo\n",
      "nahsoR\n"
     ]
    }
   ],
   "source": [
    "def permutations(string):\n",
    "    # Base case: if the string has only one character, return it as a list with a single permutation\n",
    "    if len(string) == 1:\n",
    "        return [string]\n",
    "    \n",
    "    # Recursive case: find permutations of all substrings except the first character\n",
    "    perms = []\n",
    "    for i in range(len(string)):\n",
    "        first_char = string[i]\n",
    "        remaining_chars = string[:i] + string[i+1:]\n",
    "        for perm in permutations(remaining_chars):\n",
    "            perms.append(first_char + perm)\n",
    "    \n",
    "    return perms\n",
    "\n",
    "# Input string\n",
    "input_string = input(\"Enter a string: \")\n",
    "\n",
    "# Find all permutations of the input string using the permutations() function\n",
    "all_perms = permutations(input_string)\n",
    "\n",
    "print(\"All permutations of the string are:\")\n",
    "for perm in all_perms:\n",
    "    print(perm)\n"
   ]
  },
  {
   "cell_type": "code",
   "execution_count": 6,
   "id": "a9e8c5db",
   "metadata": {},
   "outputs": [
    {
     "name": "stdout",
     "output_type": "stream",
     "text": [
      "Enter a string: roshabn\n",
      "The string is not a palindrome.\n"
     ]
    }
   ],
   "source": [
    "def is_palindrome(s):\n",
    "    # Base case: if the string has 0 or 1 characters, it's a palindrome\n",
    "    if len(s) <= 1:\n",
    "        return True\n",
    "    # Recursive case: check if the first and last characters are equal,\n",
    "    # then recursively check if the substring excluding the first and last characters is a palindrome\n",
    "    else:\n",
    "        return s[0] == s[-1] and is_palindrome(s[1:-1])\n",
    "\n",
    "# Input string\n",
    "input_string = input(\"Enter a string: \")\n",
    "\n",
    "# Check if the input string is a palindrome using the is_palindrome() function\n",
    "if is_palindrome(input_string):\n",
    "    print(\"The string is a palindrome.\")\n",
    "else:\n",
    "    print(\"The string is not a palindrome.\")\n"
   ]
  },
  {
   "cell_type": "code",
   "execution_count": 8,
   "id": "b4b79c28",
   "metadata": {},
   "outputs": [
    {
     "name": "stdout",
     "output_type": "stream",
     "text": [
      "Enter a list of elements separated by spaces: Rosan\n",
      "Enter the size of combinations (k): 887766\n",
      "All possible combinations of size 887766 are:\n"
     ]
    }
   ],
   "source": [
    "def combinations(elements, k):\n",
    "    # Base case: if k is 0, return a list containing an empty combination\n",
    "    if k == 0:\n",
    "        return [[]]\n",
    "    # Base case: if elements is empty, return an empty list\n",
    "    if not elements:\n",
    "        return []\n",
    "\n",
    "    # Recursive case: generate combinations including the first element\n",
    "    combinations_with_first = combinations(elements[1:], k - 1)\n",
    "    combinations_with_first = [[elements[0]] + comb for comb in combinations_with_first]\n",
    "\n",
    "    # Recursive case: generate combinations excluding the first element\n",
    "    combinations_without_first = combinations(elements[1:], k)\n",
    "\n",
    "    # Combine both sets of combinations\n",
    "    return combinations_with_first + combinations_without_first\n",
    "\n",
    "# Input list of elements\n",
    "input_elements = input(\"Enter a list of elements separated by spaces: \").split()\n",
    "\n",
    "# Convert input elements to integers or leave them as strings if they are not convertible to integers\n",
    "input_elements = [int(elem) if elem.isdigit() else elem for elem in input_elements]\n",
    "\n",
    "# Input k (number of elements in combinations)\n",
    "k = int(input(\"Enter the size of combinations (k): \"))\n",
    "\n",
    "# Generate all possible combinations of the input elements using the combinations() function\n",
    "all_combinations = combinations(input_elements, k)\n",
    "\n",
    "print(\"All possible combinations of size\", k, \"are:\")\n",
    "for comb in all_combinations:\n",
    "    print(comb)\n"
   ]
  },
  {
   "cell_type": "markdown",
   "id": "cf1f557e",
   "metadata": {},
   "source": [
    "# Basics of Functions"
   ]
  },
  {
   "cell_type": "code",
   "execution_count": 11,
   "id": "c9d06d38",
   "metadata": {},
   "outputs": [
    {
     "name": "stdout",
     "output_type": "stream",
     "text": [
      "8\n"
     ]
    }
   ],
   "source": [
    "def add_numbers(x, y):\n",
    "    \"\"\"\n",
    "    This function adds two numbers together.\n",
    "    \"\"\"\n",
    "    result = x + y\n",
    "    return result\n",
    "\n",
    "# Call the function and print the result\n",
    "print(add_numbers(3, 5))  # Output: 8\n"
   ]
  },
  {
   "cell_type": "code",
   "execution_count": 5,
   "id": "dfdcf570",
   "metadata": {},
   "outputs": [
    {
     "name": "stdout",
     "output_type": "stream",
     "text": [
      "Hello, Alice!\n"
     ]
    }
   ],
   "source": [
    "def greet(name):\n",
    "    \"\"\"\n",
    "    This function greets the user by name.\n",
    "    \"\"\"\n",
    "    print(\"Hello, \" + name + \"!\")\n",
    "greet(\"Alice\")\n"
   ]
  },
  {
   "cell_type": "code",
   "execution_count": 6,
   "id": "56dd70d9",
   "metadata": {},
   "outputs": [
    {
     "name": "stdout",
     "output_type": "stream",
     "text": [
      "The sum of 10 and 20 is: 30\n"
     ]
    }
   ],
   "source": [
    "def calculate_sum(x, y):\n",
    "    \"\"\"\n",
    "    This function calculates the sum of two numbers.\n",
    "    \"\"\"\n",
    "    return x + y\n",
    "\n",
    "# Call the function with two numbers and print the result\n",
    "num1 = 10\n",
    "num2 = 20\n",
    "result = calculate_sum(num1, num2)\n",
    "print(\"The sum of\", num1, \"and\", num2, \"is:\", result)\n"
   ]
  },
  {
   "cell_type": "code",
   "execution_count": 7,
   "id": "70581f72",
   "metadata": {},
   "outputs": [],
   "source": [
    "def calculate_sum(x: int, y: int) -> int:\n",
    "    \"\"\"\n",
    "    This function calculates the sum of two integers.\n",
    "    \"\"\"\n"
   ]
  },
  {
   "cell_type": "code",
   "execution_count": 9,
   "id": "d55f1cb7",
   "metadata": {},
   "outputs": [
    {
     "name": "stdout",
     "output_type": "stream",
     "text": [
      "The product of 3 and 4 is: 12\n"
     ]
    }
   ],
   "source": [
    "def calculate_product(x, y):\n",
    "    \"\"\"\n",
    "    This function calculates the product of two numbers.\n",
    "    \"\"\"\n",
    "    return x * y\n",
    "\n",
    "# Example usage:\n",
    "result = calculate_product(3, 4)\n",
    "print(\"The product of 3 and 4 is:\", result)\n"
   ]
  },
  {
   "cell_type": "markdown",
   "id": "35846080",
   "metadata": {},
   "source": [
    "# Function Parameters and Arguments"
   ]
  },
  {
   "cell_type": "code",
   "execution_count": 10,
   "id": "7e0c0b1a",
   "metadata": {},
   "outputs": [
    {
     "name": "stdout",
     "output_type": "stream",
     "text": [
      "Hello, Alice!\n",
      "Hello, Guest!\n"
     ]
    }
   ],
   "source": [
    "def greet(name=\"Guest\"):\n",
    "    \"\"\"\n",
    "    This function greets a person by name.\n",
    "    If no name is provided, it greets as \"Guest\".\n",
    "    \"\"\"\n",
    "    print(\"Hello, \" + name + \"!\")\n",
    "\n",
    "# Example usage:\n",
    "greet(\"Alice\")  # Output: Hello, Alice!\n",
    "greet()         # Output: Hello, Guest!\n"
   ]
  },
  {
   "cell_type": "code",
   "execution_count": 11,
   "id": "03b5adde",
   "metadata": {},
   "outputs": [
    {
     "name": "stdout",
     "output_type": "stream",
     "text": [
      "Hello, Alice! How are you?\n"
     ]
    }
   ],
   "source": [
    "def greet(name, message):\n",
    "    \"\"\"\n",
    "    This function greets a person with a custom message.\n",
    "    \"\"\"\n",
    "    print(\"Hello, \" + name + \"! \" + message)\n",
    "\n",
    "# Using keyword arguments to specify parameters by name\n",
    "greet(name=\"Alice\", message=\"How are you?\")  # Output: Hello, Alice! How are you?\n"
   ]
  },
  {
   "cell_type": "code",
   "execution_count": 12,
   "id": "db904aa2",
   "metadata": {},
   "outputs": [
    {
     "name": "stdout",
     "output_type": "stream",
     "text": [
      "The sum of the numbers is: 15\n"
     ]
    }
   ],
   "source": [
    "def calculate_sum(*args):\n",
    "    \"\"\"\n",
    "    This function accepts a variable number of arguments and calculates their sum.\n",
    "    \"\"\"\n",
    "    total = 0\n",
    "    for num in args:\n",
    "        total += num\n",
    "    return total\n",
    "\n",
    "# Example usage:\n",
    "result = calculate_sum(1, 2, 3, 4, 5)\n",
    "print(\"The sum of the numbers is:\", result)  # Output: The sum of the numbers is: 15\n"
   ]
  },
  {
   "cell_type": "code",
   "execution_count": 13,
   "id": "d5d37804",
   "metadata": {},
   "outputs": [
    {
     "name": "stdout",
     "output_type": "stream",
     "text": [
      "1\n",
      "2\n",
      "3\n",
      "name = Alice\n",
      "age = 30\n"
     ]
    }
   ],
   "source": [
    "def my_function(*args):\n",
    "    for arg in args:\n",
    "        print(arg)\n",
    "\n",
    "my_function(1, 2, 3)  # Output: 1 2 3\n",
    "def my_function(**kwargs):\n",
    "    for key, value in kwargs.items():\n",
    "        print(key, \"=\", value)\n",
    "\n",
    "my_function(name=\"Alice\", age=30)  # Output: name = Alice, age = 30\n"
   ]
  },
  {
   "cell_type": "markdown",
   "id": "4eea57dd",
   "metadata": {},
   "source": [
    "# Return Values and Scoping"
   ]
  },
  {
   "cell_type": "code",
   "execution_count": 15,
   "id": "4d8c5de4",
   "metadata": {},
   "outputs": [
    {
     "name": "stdout",
     "output_type": "stream",
     "text": [
      "The result of addition is: 8\n"
     ]
    }
   ],
   "source": [
    "def add(x, y):\n",
    "    \"\"\"\n",
    "    This function adds two numbers and returns the result.\n",
    "    \"\"\"\n",
    "    return x + y\n",
    "\n",
    "result = add(3, 5)\n",
    "print(\"The result of addition is:\", result)  # Output: The result of addition is: 8\n"
   ]
  },
  {
   "cell_type": "code",
   "execution_count": 16,
   "id": "c2df3bba",
   "metadata": {},
   "outputs": [
    {
     "name": "stdout",
     "output_type": "stream",
     "text": [
      "Is the number even? False\n"
     ]
    }
   ],
   "source": [
    "def check_even(number):\n",
    "    \"\"\"\n",
    "    This function checks if a number is even.\n",
    "    If the number is even, it returns True; otherwise, it returns False.\n",
    "    \"\"\"\n",
    "    if number % 2 == 0:\n",
    "        return True\n",
    "    else:\n",
    "        return False\n",
    "\n",
    "result = check_even(7)\n",
    "print(\"Is the number even?\", result)  # Output: Is the number even? False\n"
   ]
  },
  {
   "cell_type": "code",
   "execution_count": 17,
   "id": "5d407bcd",
   "metadata": {},
   "outputs": [
    {
     "name": "stdout",
     "output_type": "stream",
     "text": [
      "Minimum value: 1\n",
      "Maximum value: 9\n"
     ]
    }
   ],
   "source": [
    "def min_and_max(numbers):\n",
    "    \"\"\"\n",
    "    This function computes the minimum and maximum values in a list of numbers.\n",
    "    \"\"\"\n",
    "    return min(numbers), max(numbers)\n",
    "\n",
    "numbers = [3, 1, 4, 1, 5, 9, 2, 6]\n",
    "min_value, max_value = min_and_max(numbers)\n",
    "print(\"Minimum value:\", min_value)  # Output: Minimum value: 1\n",
    "print(\"Maximum value:\", max_value)  # Output: Maximum value: 9\n"
   ]
  },
  {
   "cell_type": "code",
   "execution_count": 18,
   "id": "c7f2f73a",
   "metadata": {},
   "outputs": [
    {
     "name": "stdout",
     "output_type": "stream",
     "text": [
      "Inside the function: 10\n"
     ]
    }
   ],
   "source": [
    "def my_function():\n",
    "    x = 10  # x is a local variable\n",
    "    print(\"Inside the function:\", x)\n",
    "\n",
    "my_function()  # Output: Inside the function: 10\n",
    "# Attempting to access x outside the function will raise a NameError\n"
   ]
  },
  {
   "cell_type": "code",
   "execution_count": 19,
   "id": "645a9b40",
   "metadata": {},
   "outputs": [
    {
     "name": "stdout",
     "output_type": "stream",
     "text": [
      "Inside the function: 10\n"
     ]
    }
   ],
   "source": [
    "x = 10  # x is a global variable\n",
    "\n",
    "def my_function():\n",
    "    print(\"Inside the function:\", x)\n",
    "\n",
    "my_function()  # Output: Inside the function: 10\n"
   ]
  },
  {
   "cell_type": "code",
   "execution_count": 20,
   "id": "b17f9d1c",
   "metadata": {},
   "outputs": [],
   "source": [
    "# Define a global variable\n",
    "global_variable = 10\n",
    "\n",
    "def my_function():\n",
    "    \"\"\"\n",
    "    This function demonstrates the use of a global variable.\n",
    "    \"\"\"\n",
    "   \n"
   ]
  },
  {
   "cell_type": "code",
   "execution_count": 21,
   "id": "f8bdb6f6",
   "metadata": {},
   "outputs": [
    {
     "name": "stdout",
     "output_type": "stream",
     "text": [
      "Inside the function: 10\n",
      "Inside the function: 20\n"
     ]
    }
   ],
   "source": [
    "# Define a global variable\n",
    "global_var = 10\n",
    "\n",
    "def my_function():\n",
    "    # Access the global variable within the function\n",
    "    print(\"Inside the function:\", global_var)\n",
    "\n",
    "# Call the function\n",
    "my_function()  # Output: Inside the function: 10\n",
    "\n",
    "# Modify the global variable from outside the function\n",
    "global_var = 20\n",
    "\n",
    "# Call the function again\n",
    "my_function()  # Output: Inside the function: 20\n"
   ]
  },
  {
   "cell_type": "code",
   "execution_count": 22,
   "id": "ef8f3b51",
   "metadata": {},
   "outputs": [
    {
     "name": "stdout",
     "output_type": "stream",
     "text": [
      "The factorial of 5 is: 120\n"
     ]
    }
   ],
   "source": [
    "def factorial(n):\n",
    "    \"\"\"\n",
    "    This function calculates the factorial of a number.\n",
    "    \"\"\"\n",
    "    if n == 0:\n",
    "        return 1\n",
    "    else:\n",
    "        result = 1\n",
    "        for i in range(1, n + 1):\n",
    "            result *= i\n",
    "        return result\n",
    "\n",
    "# Example usage:\n",
    "number = 5\n",
    "factorial_value = factorial(number)\n",
    "print(\"The factorial of\", number, \"is:\", factorial_value)  # Output: The factorial of 5 is: 120\n"
   ]
  },
  {
   "cell_type": "code",
   "execution_count": 23,
   "id": "07e349b5",
   "metadata": {},
   "outputs": [
    {
     "name": "stdout",
     "output_type": "stream",
     "text": [
      "Before function call: 10\n",
      "After function call: 15\n"
     ]
    }
   ],
   "source": [
    "x = 10  # Define a global variable\n",
    "\n",
    "def my_function():\n",
    "    global x  # Declare x as a global variable\n",
    "    x += 5    # Modify the value of the global variable\n",
    "\n",
    "print(\"Before function call:\", x)  # Output: Before function call: 10\n",
    "my_function()                       # Call the function\n",
    "print(\"After function call:\", x)   # Output: After function call: 15\n"
   ]
  },
  {
   "cell_type": "code",
   "execution_count": 24,
   "id": "b5d8ef46",
   "metadata": {},
   "outputs": [
    {
     "name": "stdout",
     "output_type": "stream",
     "text": [
      "Before function call: 10\n",
      "Inside function: 10\n"
     ]
    }
   ],
   "source": [
    "x = 10  # Define a global variable\n",
    "\n",
    "def my_function():\n",
    "    print(\"Inside function:\", x)  # Access the value of the global variable\n",
    "\n",
    "print(\"Before function call:\", x)  # Output: Before function call: 10\n",
    "my_function()                       # Call the function\n"
   ]
  },
  {
   "cell_type": "markdown",
   "id": "55c369c4",
   "metadata": {},
   "source": [
    "# Lambda Functions and Higher-Order Functions"
   ]
  },
  {
   "cell_type": "code",
   "execution_count": 25,
   "id": "808a331a",
   "metadata": {},
   "outputs": [
    {
     "name": "stdout",
     "output_type": "stream",
     "text": [
      "[1, 4, 9, 16, 25]\n"
     ]
    }
   ],
   "source": [
    "numbers = [1, 2, 3, 4, 5]\n",
    "squared_numbers = list(map(lambda x: x ** 2, numbers))\n",
    "print(squared_numbers)  # Output: [1, 4, 9, 16, 25]\n"
   ]
  },
  {
   "cell_type": "code",
   "execution_count": 26,
   "id": "eb93af35",
   "metadata": {},
   "outputs": [
    {
     "name": "stdout",
     "output_type": "stream",
     "text": [
      "[2, 4]\n"
     ]
    }
   ],
   "source": [
    "numbers = [1, 2, 3, 4, 5]\n",
    "even_numbers = list(filter(lambda x: x % 2 == 0, numbers))\n",
    "print(even_numbers)  # Output: [2, 4]\n"
   ]
  },
  {
   "cell_type": "code",
   "execution_count": 27,
   "id": "3a89a30b",
   "metadata": {},
   "outputs": [
    {
     "name": "stdout",
     "output_type": "stream",
     "text": [
      "['Bob', 'Alice', 'David', 'Charlie']\n"
     ]
    }
   ],
   "source": [
    "names = ['Alice', 'Bob', 'Charlie', 'David']\n",
    "sorted_names = sorted(names, key=lambda x: len(x))\n",
    "print(sorted_names)  # Output: ['Bob', 'Alice', 'David', 'Charlie']\n"
   ]
  },
  {
   "cell_type": "code",
   "execution_count": 28,
   "id": "b8371c75",
   "metadata": {},
   "outputs": [
    {
     "name": "stdout",
     "output_type": "stream",
     "text": [
      "Sorted list of tuples based on the second element:\n",
      "('Alice', 20)\n",
      "('Charlie', 22)\n",
      "('John', 25)\n",
      "('Bob', 30)\n"
     ]
    }
   ],
   "source": [
    "# Define a list of tuples\n",
    "data = [('John', 25), ('Alice', 20), ('Bob', 30), ('Charlie', 22)]\n",
    "\n",
    "# Sort the list of tuples based on the second element (age)\n",
    "sorted_data = sorted(data, key=lambda x: x[1])\n",
    "\n",
    "# Print the sorted list of tuples\n",
    "print(\"Sorted list of tuples based on the second element:\")\n",
    "for item in sorted_data:\n",
    "    print(item)\n"
   ]
  },
  {
   "cell_type": "code",
   "execution_count": 29,
   "id": "9e2dad73",
   "metadata": {},
   "outputs": [
    {
     "name": "stdout",
     "output_type": "stream",
     "text": [
      "Result of addition: 8\n",
      "Result of subtraction: 6\n",
      "Result of multiplication: 12\n",
      "Result of division: 5.0\n"
     ]
    }
   ],
   "source": [
    "def apply_operation(operation, x, y):\n",
    "    \"\"\"\n",
    "    This function takes an operation (another function) as an argument\n",
    "    and applies it to the given arguments x and y.\n",
    "    \"\"\"\n",
    "    return operation(x, y)\n",
    "\n",
    "def add(x, y):\n",
    "    \"\"\"This function adds two numbers.\"\"\"\n",
    "    return x + y\n",
    "\n",
    "def subtract(x, y):\n",
    "    \"\"\"This function subtracts y from x.\"\"\"\n",
    "    return x - y\n",
    "\n",
    "def multiply(x, y):\n",
    "    \"\"\"This function multiplies two numbers.\"\"\"\n",
    "    return x * y\n",
    "\n",
    "def divide(x, y):\n",
    "    \"\"\"This function divides x by y.\"\"\"\n",
    "    return x / y\n",
    "\n",
    "# Examples of using higher-order functions\n",
    "result1 = apply_operation(add, 5, 3)\n",
    "print(\"Result of addition:\", result1)  # Output: Result of addition: 8\n",
    "\n",
    "result2 = apply_operation(subtract, 10, 4)\n",
    "print(\"Result of subtraction:\", result2)  # Output: Result of subtraction: 6\n",
    "\n",
    "result3 = apply_operation(multiply, 6, 2)\n",
    "print(\"Result of multiplication:\", result3)  # Output: Result of multiplication: 12\n",
    "\n",
    "result4 = apply_operation(divide, 15, 3)\n",
    "print(\"Result of division:\", result4)  # Output: Result of division: 5.0\n"
   ]
  },
  {
   "cell_type": "code",
   "execution_count": 30,
   "id": "79b3c6fa",
   "metadata": {},
   "outputs": [
    {
     "name": "stdout",
     "output_type": "stream",
     "text": [
      "Result after applying square function to each element: [1, 4, 9, 16, 25]\n"
     ]
    }
   ],
   "source": [
    "def apply_function_to_list(func, numbers):\n",
    "    \"\"\"\n",
    "    This function applies the given function to each element in the list of numbers.\n",
    "    \"\"\"\n",
    "    result = []\n",
    "    for num in numbers:\n",
    "        result.append(func(num))\n",
    "    return result\n",
    "\n",
    "# Example usage:\n",
    "\n",
    "# Define a function to square a number\n",
    "def square(x):\n",
    "    \"\"\"This function squares a number.\"\"\"\n",
    "    return x ** 2\n",
    "\n",
    "# Define a list of numbers\n",
    "numbers = [1, 2, 3, 4, 5]\n",
    "\n",
    "# Apply the square function to each element in the list\n",
    "result = apply_function_to_list(square, numbers)\n",
    "print(\"Result after applying square function to each element:\", result)\n"
   ]
  },
  {
   "cell_type": "markdown",
   "id": "0f92ce68",
   "metadata": {},
   "source": [
    "# Built-in Functions"
   ]
  },
  {
   "cell_type": "code",
   "execution_count": 33,
   "id": "b43b9035",
   "metadata": {},
   "outputs": [
    {
     "name": "stdout",
     "output_type": "stream",
     "text": [
      "5\n"
     ]
    }
   ],
   "source": [
    "my_list = [1, 2, 3, 4, 5]\n",
    "print(len(my_list))  # Output: 5\n"
   ]
  },
  {
   "cell_type": "code",
   "execution_count": 32,
   "id": "708eaf46",
   "metadata": {},
   "outputs": [
    {
     "name": "stdout",
     "output_type": "stream",
     "text": [
      "9\n",
      "30\n"
     ]
    }
   ],
   "source": [
    "numbers = [3, 7, 1, 9, 5]\n",
    "print(max(numbers))  # Output: 9\n",
    "\n",
    "print(max(10, 20, 30))  # Output: 30\n"
   ]
  },
  {
   "cell_type": "code",
   "execution_count": 34,
   "id": "75ab7fd7",
   "metadata": {},
   "outputs": [
    {
     "name": "stdout",
     "output_type": "stream",
     "text": [
      "1\n",
      "10\n"
     ]
    }
   ],
   "source": [
    "numbers = [3, 7, 1, 9, 5]\n",
    "print(min(numbers))  # Output: 1\n",
    "\n",
    "print(min(10, 20, 30))  # Output: 10\n"
   ]
  },
  {
   "cell_type": "code",
   "execution_count": 35,
   "id": "fbcafdd2",
   "metadata": {},
   "outputs": [
    {
     "name": "stdout",
     "output_type": "stream",
     "text": [
      "Original list: [1, 2, 3, 4, 5]\n",
      "Doubled list: [2, 4, 6, 8, 10]\n"
     ]
    }
   ],
   "source": [
    "# Define a function to double a number\n",
    "def double(x):\n",
    "    return 2 * x\n",
    "\n",
    "# Define a list of numbers\n",
    "numbers = [1, 2, 3, 4, 5]\n",
    "\n",
    "# Use the map() function to apply the double function to each element in the list\n",
    "doubled_numbers = list(map(double, numbers))\n",
    "\n",
    "# Print the result\n",
    "print(\"Original list:\", numbers)\n",
    "print(\"Doubled list:\", doubled_numbers)\n"
   ]
  },
  {
   "cell_type": "code",
   "execution_count": 36,
   "id": "419c5895",
   "metadata": {},
   "outputs": [
    {
     "name": "stdout",
     "output_type": "stream",
     "text": [
      "Original list: [1, 2, 3, 4, 5, 6, 7, 8, 9, 10]\n",
      "Filtered list (even numbers): [2, 4, 6, 8, 10]\n"
     ]
    }
   ],
   "source": [
    "# Define a function to check if a number is even\n",
    "def is_even(x):\n",
    "    return x % 2 == 0\n",
    "\n",
    "# Define a list of numbers\n",
    "numbers = [1, 2, 3, 4, 5, 6, 7, 8, 9, 10]\n",
    "\n",
    "# Use the filter() function to filter out the even numbers\n",
    "even_numbers = list(filter(is_even, numbers))\n",
    "\n",
    "# Print the result\n",
    "print(\"Original list:\", numbers)\n",
    "print(\"Filtered list (even numbers):\", even_numbers)\n"
   ]
  },
  {
   "cell_type": "code",
   "execution_count": 37,
   "id": "8215461b",
   "metadata": {},
   "outputs": [
    {
     "name": "stdout",
     "output_type": "stream",
     "text": [
      "List: [1, 2, 3, 4, 5]\n",
      "Product of all elements: 120\n"
     ]
    }
   ],
   "source": [
    "from functools import reduce\n",
    "\n",
    "# Define a list of numbers\n",
    "numbers = [1, 2, 3, 4, 5]\n",
    "\n",
    "# Use the reduce() function to find the product of all elements in the list\n",
    "product = reduce(lambda x, y: x * y, numbers)\n",
    "\n",
    "# Print the result\n",
    "print(\"List:\", numbers)\n",
    "print(\"Product of all elements:\", product)\n"
   ]
  },
  {
   "cell_type": "markdown",
   "id": "ddde8e7a",
   "metadata": {},
   "source": [
    "# Function Documentation and Best Practices"
   ]
  },
  {
   "cell_type": "code",
   "execution_count": 38,
   "id": "43222e0e",
   "metadata": {},
   "outputs": [
    {
     "name": "stdout",
     "output_type": "stream",
     "text": [
      "\n",
      "    Greets the user with a personalized message.\n",
      "\n",
      "    Parameters:\n",
      "    name (str): The name of the person to greet.\n",
      "\n",
      "    Returns:\n",
      "    str: A greeting message addressed to the person.\n",
      "    \n"
     ]
    }
   ],
   "source": [
    "def greet(name):\n",
    "    \"\"\"\n",
    "    Greets the user with a personalized message.\n",
    "\n",
    "    Parameters:\n",
    "    name (str): The name of the person to greet.\n",
    "\n",
    "    Returns:\n",
    "    str: A greeting message addressed to the person.\n",
    "    \"\"\"\n",
    "    return f\"Hello, {name}! Welcome to Python programming.\"\n",
    "\n",
    "# Accessing the docstring\n",
    "print(greet.__doc__)\n"
   ]
  },
  {
   "cell_type": "code",
   "execution_count": null,
   "id": "c46ecd93",
   "metadata": {},
   "outputs": [],
   "source": []
  }
 ],
 "metadata": {
  "kernelspec": {
   "display_name": "Python 3 (ipykernel)",
   "language": "python",
   "name": "python3"
  },
  "language_info": {
   "codemirror_mode": {
    "name": "ipython",
    "version": 3
   },
   "file_extension": ".py",
   "mimetype": "text/x-python",
   "name": "python",
   "nbconvert_exporter": "python",
   "pygments_lexer": "ipython3",
   "version": "3.11.5"
  }
 },
 "nbformat": 4,
 "nbformat_minor": 5
}
